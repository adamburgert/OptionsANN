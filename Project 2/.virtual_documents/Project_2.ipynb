!pip install xlsxwriter yfinance matplotlib torch numpy pandas scikit-learn  openpyxl


from google.colab import drive
drive.mount('/content/drive')


import pandas as pd
import numpy as np
import torch
import torch.nn as nn
import torch.optim as optim
from sklearn.preprocessing import MinMaxScaler
import matplotlib.pyplot as plt
import random


seed = 279
torch.manual_seed(seed)
np.random.seed(seed)
random.seed(seed)


Data_for_call_options= pd.read_excel('train_data.xlsx', sheet_name='GLD_call')
Data_for_put_options = pd.read_excel('train_data.xlsx', sheet_name='GLD_put')

Features_for_call_options = Data_for_call_options[['Underlying Price', 'Strike 1']].copy()
Features_for_call_options['Time to Maturity'] = 5 / 365
Data_Target_call = Data_for_call_options['Close']

Features_for_put_options = Data_for_put_options[['Underlying Price', 'Strike 1']].copy()
Features_for_put_options['Time to Maturity'] = 5 / 365
Data_Target_put = Data_for_put_options['Close']

Features_for_call_options['Underlying Price'] = pd.to_numeric(Features_for_call_options['Underlying Price'], errors='coerce')
Features_for_put_options['Underlying Price'] = pd.to_numeric(Features_for_put_options['Underlying Price'], errors='coerce')

Features_for_call_options = Features_for_call_options.dropna(subset=['Underlying Price'])
Features_for_put_options = Features_for_put_options.dropna(subset=['Underlying Price'])

scaler_for_call_options = MinMaxScaler()
ScaledFeatures_for_call_options = scaler_for_call_options.fit_transform(Features_for_call_options)

scaler_for_put_options = MinMaxScaler()
ScaledFeatures_for_put_options = scaler_for_put_options.fit_transform(Features_for_put_options)

class ThreeInOptionsPricingANN(nn.Module):
    def __init__(self, Input_Param, Output_param):
        super(ThreeInOptionsPricingANN, self).__init__()
        self.L1 = nn.Linear(Input_Param, 150)
        self.RELU_1 = nn.ReLU()
        self.L2 = nn.Linear(150, 100)
        self.RELU_2 = nn.ReLU()
        self.L3 = nn.Linear(100, 80)
        self.RELU_3 = nn.ReLU()
        self.L4 = nn.Linear(80, 60)
        self.RELU_4 = nn.ReLU()
        self.L5 = nn.Linear(60, 40)
        self.RELU_5 = nn.ReLU()
        self.L6 = nn.Linear(40, 20)
        self.RELU_6 = nn.ReLU()
        self.L7 = nn.Linear(20, Output_param)

    def forward(self, x):
        x = self.L1(x)
        x = self.RELU_1(x)
        x = self.L2(x)
        x = self.RELU_2(x)
        x = self.L3(x)
        x = self.RELU_3(x)
        x = self.L4(x)
        x = self.RELU_4(x)
        x = self.L5(x)
        x = self.RELU_5(x)
        x = self.L6(x)
        x = self.RELU_6(x)
        x = self.L7(x)
        return x

Input_Param_call = ScaledFeatures_for_call_options.shape[1]
Output_param = 1
Model_Call_options = ThreeInOptionsPricingANN(Input_Param_call, Output_param)

Input_Param_put = ScaledFeatures_for_put_options.shape[1]
Model_for_put_options = ThreeInOptionsPricingANN(Input_Param_put, Output_param)

call_options_Criteria = nn.MSELoss()
Optimizer_for_calls = optim.Adam(Model_Call_options.parameters(), lr=0.001)

Put_options_Criteria = nn.MSELoss()
optimizer_put = optim.Adam(Model_for_put_options.parameters(), lr=0.001)

Num_Epochs = 2000
for Epoch in range(Num_Epochs):
    Optimizer_for_calls.zero_grad()
    Target_out_call = Model_Call_options(torch.tensor(ScaledFeatures_for_call_options, dtype=torch.float32))
    Loss_for_call_options = call_options_Criteria(Target_out_call, torch.tensor(Data_Target_call.values, dtype=torch.float32).view(-1, 1))
    Loss_for_call_options.backward()
    Optimizer_for_calls.step()
    if (Epoch + 1) % 100 == 0:
        print(f'Epoch [{Epoch+1}/{Num_Epochs}], Loss (CALL): {Loss_for_call_options.item():.4f}')

for Epoch in range(Num_Epochs):
    optimizer_put.zero_grad()
    Target_out_put = Model_for_put_options(torch.tensor(ScaledFeatures_for_put_options, dtype=torch.float32))
    Loss_for_put_options = Put_options_Criteria(Target_out_put, torch.tensor(Data_Target_put.values, dtype=torch.float32).view(-1, 1))
    Loss_for_put_options.backward()
    optimizer_put.step()
    if (Epoch + 1) % 100 == 0:
        print(f'Epoch [{Epoch+1}/{Num_Epochs}], Loss (PUT): {Loss_for_put_options.item():.4f}')

with torch.no_grad():
    Model_Call_options.eval()
    train_predictions_call = Model_Call_options(torch.tensor(ScaledFeatures_for_call_options, dtype=torch.float32)).numpy().flatten()

with torch.no_grad():
    Model_for_put_options.eval()
    train_predictions_put = Model_for_put_options(torch.tensor(ScaledFeatures_for_put_options, dtype=torch.float32)).numpy().flatten()

def Metrics(actual, predicted):
    MSE = np.mean((actual - predicted) ** 2)
    MAE = np.mean(np.abs(actual - predicted))
    MAPE = np.mean(np.abs((actual - predicted) / actual)) * 100
    APPDN = np.mean((actual - predicted))
    APPDP = np.mean(((actual - predicted) / actual)) * 100
    Average_Accuracy = 100 - APPDN
    return MSE, MAE, MAPE, APPDN, APPDP, Average_Accuracy

MSE_call, MAE_call, MAPE_call, APPDN_call, APPDP_call, Average_Accuracy_call = Metrics(Data_Target_call, train_predictions_call)
print(f'CALL Options - MSE (Training): {MSE_call:.4f}, MAE (Training): {MAE_call:.4f}, MAPE (Training): {MAPE_call:.4f}%, APPD: {APPDN_call:.4f}, APPDP: {APPDP_call:.4f}%, Average Accuracy: {Average_Accuracy_call:.4f}%')

MSE_put, MAE_put, MAPE_put, APPDN_put, APPDP_put, Average_Accuracy_put = Metrics(Data_Target_put, train_predictions_put)
print(f'PUT Options - MSE (Training): {MSE_put:.4f}, MAE (Training): {MAE_put:.4f}, MAPE (Training): {MAPE_put:.4f}%, APPD: {APPDN_put:.4f}, APPDP: {APPDP_put:.4f}%, Average Accuracy: {Average_Accuracy_put:.4f}%')
Res_Call_options = pd.DataFrame({'Underlying Price': ScaledFeatures_for_call_options[:, 0],
                             'Strike 1': ScaledFeatures_for_call_options[:, 1],
                             'Actual Close price': Data_Target_call,
                             'Predicted Price': train_predictions_call})

Res_Call_options['Prediction Difference'] = Res_Call_options['Actual Close price'] - Res_Call_options['Predicted Price']
Res_Call_options['Average Prediction Difference (APPDPN)'] = Res_Call_options['Prediction Difference'].mean()

Res_Call_options['MSE'] = MSE_call
Res_Call_options['MAE'] = MAE_call
Res_Call_options['MAPE'] = MAPE_call
Res_Call_options['APPDP'] = APPDP_call
Res_Call_options['Average Accuracy'] = Average_Accuracy_call

print("Call Options Results:")
print(Res_Call_options)

Res_Put_options = pd.DataFrame({'Underlying Price': ScaledFeatures_for_put_options[:, 0],
                            'Strike 1': ScaledFeatures_for_put_options[:, 1],
                            'Actual Close price': Data_Target_put,
                            'Predicted Price': train_predictions_put})

Res_Put_options['Prediction Difference'] = Res_Put_options['Actual Close price'] - Res_Put_options['Predicted Price']
Res_Put_options['Average Prediction Difference (APPDN)'] = Res_Put_options['Prediction Difference'].mean()

Res_Put_options['MSE'] = MSE_put
Res_Put_options['MAE'] = MAE_put
Res_Put_options['MAPE'] = MAPE_put
Res_Put_options['APPDP'] = APPDP_put
Res_Put_options['Average Accuracy'] = Average_Accuracy_put

print("Put Options Results:")
print(Res_Put_options)

with pd.ExcelWriter('GLD_Historical_with_ANN_only_Training_Adam.xlsx') as writer:
    Res_Call_options.to_excel(writer, sheet_name='Call_Options', index=False)
    Res_Put_options.to_excel(writer, sheet_name='Put_Options', index=False)

plt.figure(figsize=(14, 8))

plt.subplot(1, 2, 1)
plt.plot(range(len(Data_Target_call)), Data_Target_call, label='Actual CALL Price', color='blue', marker='o')
plt.plot(range(len(Res_Call_options['Predicted Price'])), Res_Call_options['Predicted Price'], label='Predicted CALL Price (ANN)', color='red', marker='x')
plt.xlabel('Data Point')
plt.ylabel('Price')
plt.title(' Project 2. :Actual vs Predicted CALL Option Prices (ANN)')
plt.legend()
plt.grid(True)

plt.subplot(1, 2, 2)
plt.hist(Res_Call_options['Prediction Difference'], bins=30, color='green', alpha=0.7)
plt.xlabel('Prediction Difference')
plt.ylabel('Frequency')
plt.title('Histogram of Prediction Differences (CALL Options) SPDR Gold Shares ETF MinMax Scaler')
plt.grid(True)

plt.tight_layout()
plt.show()

plt.figure(figsize=(14, 8))

plt.subplot(1, 2, 1)
plt.plot(range(len(Data_Target_put)), Data_Target_put, label='Actual PUT Price', color='blue', marker='o')
plt.plot(range(len(Res_Put_options['Predicted Price'])), Res_Put_options['Predicted Price'], label='Predicted PUT Price (ANN)', color='red', marker='x')
plt.xlabel('Data Point')
plt.ylabel('Price')
plt.title('Project 2. :Actual vs Predicted PUT Option Prices (ANN) ')
plt.legend()
plt.grid(True)

plt.subplot(1, 2, 2)
plt.hist(Res_Put_options['Prediction Difference'], bins=30, color='green', alpha=0.7)
plt.xlabel('Prediction Difference')
plt.ylabel('Frequency')
plt.title('Histogram of Prediction Differences (PUT Options) SPDR Gold Shares ETF MinMax Scaler')
plt.grid(True)

plt.tight_layout()
plt.show()
plt.savefig('GLD_Historical_with_ANN_only_Training_Adam.pdf')














import pandas as pd
import numpy as np
import torch
import torch.nn as nn
import torch.optim as optim
from sklearn.preprocessing import MinMaxScaler
import matplotlib.pyplot as plt
import itertools
import random


seed = 279
torch.manual_seed(seed)
np.random.seed(seed)
random.seed(seed)




Data_for_call_options= pd.read_excel('train_data.xlsx', sheet_name='GLD_call')
Data_for_put_options = pd.read_excel('train_data.xlsx', sheet_name='GLD_put')




Features_for_call_options = Data_for_call_options[['Underlying Price', 'Strike 1']].copy()
Features_for_call_options['Time to Maturity'] = 5 / 365
Data_Target_call = Data_for_call_options['Close']

Features_for_put_options = Data_for_put_options[['Underlying Price', 'Strike 1']].copy()
Features_for_put_options['Time to Maturity'] = 5 / 365
Data_Target_put = Data_for_put_options['Close']

Features_for_call_options['Underlying Price'] = pd.to_numeric(Features_for_call_options['Underlying Price'], errors='coerce')
Features_for_put_options['Underlying Price'] = pd.to_numeric(Features_for_put_options['Underlying Price'], errors='coerce')

Features_for_call_options = Features_for_call_options.dropna(subset=['Underlying Price'])
Features_for_put_options = Features_for_put_options.dropna(subset=['Underlying Price'])


scaler_for_call_options = MinMaxScaler()
ScaledFeatures_for_call_options = scaler_for_call_options.fit_transform(Features_for_call_options)

scaler_for_put_options = MinMaxScaler()
ScaledFeatures_for_put_options = scaler_for_put_options.fit_transform(Features_for_put_options)


class ThreeInOptionsPricingANN(nn.Module):
    def __init__(self, Input_Param, Output_param, Neurons):
        super(ThreeInOptionsPricingANN, self).__init__()
        self.L1 = nn.Linear(Input_Param, Neurons[0])
        self.RELU_1 = nn.ReLU()
        self.L2 = nn.Linear(Neurons[0], Neurons[1])
        self.RELU_2 = nn.ReLU()
        self.L3 = nn.Linear(Neurons[1], Neurons[2])
        self.RELU_3 = nn.ReLU()
        self.L4 = nn.Linear(Neurons[2], Neurons[3])
        self.RELU_4 = nn.ReLU()
        self.L5 = nn.Linear(Neurons[3], Neurons[4])
        self.RELU_5 = nn.ReLU()
        self.L6 = nn.Linear(Neurons[4], Neurons[5])
        self.RELU_6 = nn.ReLU()
        self.L7 = nn.Linear(Neurons[5], Output_param)

    def forward(self, x):
        x = self.L1(x)
        x = self.RELU_1(x)
        x = self.L2(x)
        x = self.RELU_2(x)
        x = self.L3(x)
        x = self.RELU_3(x)
        x = self.L4(x)
        x = self.RELU_4(x)
        x = self.L5(x)
        x = self.RELU_5(x)
        x = self.L6(x)
        x = self.RELU_6(x)
        x = self.L7(x)
        return x


def Metrics(actual, predicted):
    MSE = np.mean((actual - predicted) ** 2)
    MAE = np.mean(np.abs(actual - predicted))
    MAPE = np.mean(np.abs((actual - predicted) / actual)) * 100
    return MSE, MAE, MAPE


Learning_Rates = [0.001, 0.01, 0.1]
Num_neurons = [[50, 100, 150, 100, 50, 30], [100, 150, 200, 150, 100, 50], [150, 200, 250, 200, 150, 100]]

best_Loss_for_call_options = float('inf')
Best_Learning_rate_call = None
best_Neurons_call = None

best_Loss_for_put_options = float('inf')
Best_Learning_rate_put = None
best_Neurons_put = None


for lr, Neurons in itertools.product(Learning_Rates, Num_neurons):

    Input_Param_call = ScaledFeatures_for_call_options.shape[1]
    Output_param = 1
    Model_Call_options = ThreeInOptionsPricingANN(Input_Param_call, Output_param, Neurons)


    Optimizer_for_calls = optim.Adam(Model_Call_options.parameters(), lr=lr)


    call_options_Criteria = nn.MSELoss()


    Num_Epochs = 2000
    for Epoch in range(Num_Epochs):
        Optimizer_for_calls.zero_grad()
        Target_out_call = Model_Call_options(torch.tensor(ScaledFeatures_for_call_options, dtype=torch.float32))
        Loss_for_call_options = call_options_Criteria(Target_out_call, torch.tensor(Data_Target_call.values, dtype=torch.float32).view(-1, 1))
        Loss_for_call_options.backward()
        Optimizer_for_calls.step()


    with torch.no_grad():
        Model_Call_options.eval()
        train_predictions_call = Model_Call_options(torch.tensor(ScaledFeatures_for_call_options, dtype=torch.float32)).numpy().flatten()

    MSE_call, _, _ = Metrics(Data_Target_call, train_predictions_call)


    if MSE_call < best_Loss_for_call_options:
        best_Loss_for_call_options = MSE_call
        Best_Learning_rate_call = lr
        best_Neurons_call = Neurons


for lr, Neurons in itertools.product(Learning_Rates, Num_neurons):

    Input_Param_put = ScaledFeatures_for_put_options.shape[1]
    Model_for_put_options = ThreeInOptionsPricingANN(Input_Param_put, Output_param, Neurons)

    optimizer_put = optim.Adam(Model_for_put_options.parameters(), lr=lr)

    Put_options_Criteria = nn.MSELoss()


    Num_Epochs = 2000
    for Epoch in range(Num_Epochs):
        optimizer_put.zero_grad()
        Target_out_put = Model_for_put_options(torch.tensor(ScaledFeatures_for_put_options, dtype=torch.float32))
        Loss_for_put_options = Put_options_Criteria(Target_out_put, torch.tensor(Data_Target_put.values, dtype=torch.float32).view(-1, 1))
        Loss_for_put_options.backward()
        optimizer_put.step()


    with torch.no_grad():
        Model_for_put_options.eval()
        train_predictions_put = Model_for_put_options(torch.tensor(ScaledFeatures_for_put_options, dtype=torch.float32)).numpy().flatten()

    MSE_put, _, _ = Metrics(Data_Target_put, train_predictions_put)


    if MSE_put < best_Loss_for_put_options:
        best_Loss_for_put_options = MSE_put
        Best_Learning_rate_put = lr
        best_Neurons_put = Neurons

print("Best parameters for CALL options:")
print(f'Learning rate: {Best_Learning_rate_call}, Neurons: {best_Neurons_call}, MSE: {best_Loss_for_call_options:.4f}')

print("\nBest parameters for PUT options:")
print(f'Learning rate: {Best_Learning_rate_put}, Neurons: {best_Neurons_put}, MSE: {best_Loss_for_put_options:.4f}')


Input_Param_call = ScaledFeatures_for_call_options.shape[1]
Model_Call_options = ThreeInOptionsPricingANN(Input_Param_call, Output_param, best_Neurons_call)
Optimizer_for_calls = optim.Adam(Model_Call_options.parameters(), lr=Best_Learning_rate_call)
call_options_Criteria = nn.MSELoss()


Num_Epochs = 2000
for Epoch in range(Num_Epochs):
    Optimizer_for_calls.zero_grad()
    Target_out_call = Model_Call_options(torch.tensor(ScaledFeatures_for_call_options, dtype=torch.float32))
    Loss_for_call_options = call_options_Criteria(Target_out_call, torch.tensor(Data_Target_call.values, dtype=torch.float32).view(-1, 1))
    Loss_for_call_options.backward()
    Optimizer_for_calls.step()

with torch.no_grad():
    Model_Call_options.eval()
    train_predictions_call = Model_Call_options(torch.tensor(ScaledFeatures_for_call_options, dtype=torch.float32)).numpy().flatten()

MSE_call, MAE_call, MAPE_call = Metrics(Data_Target_call, train_predictions_call)
print("Evaluation metrics for CALL options:")
print(f'MSE: {MSE_call:.4f}, MAE: {MAE_call:.4f}, MAPE: {MAPE_call:.4f}%')


Input_Param_put = ScaledFeatures_for_put_options.shape[1]
Model_for_put_options = ThreeInOptionsPricingANN(Input_Param_put, Output_param, best_Neurons_put)
optimizer_put = optim.Adam(Model_for_put_options.parameters(), lr=Best_Learning_rate_put)
Put_options_Criteria = nn.MSELoss()


for Epoch in range(Num_Epochs):
    optimizer_put.zero_grad()
    Target_out_put = Model_for_put_options(torch.tensor(ScaledFeatures_for_put_options, dtype=torch.float32))
    Loss_for_put_options = Put_options_Criteria(Target_out_put, torch.tensor(Data_Target_put.values, dtype=torch.float32).view(-1, 1))
    Loss_for_put_options.backward()
    optimizer_put.step()


with torch.no_grad():
    Model_for_put_options.eval()
    train_predictions_put = Model_for_put_options(torch.tensor(ScaledFeatures_for_put_options, dtype=torch.float32)).numpy().flatten()

MSE_put, MAE_put, MAPE_put = Metrics(Data_Target_put, train_predictions_put)
print("\nEvaluation metrics for PUT options:")
print(f'MSE: {MSE_put:.4f}, MAE: {MAE_put:.4f}, MAPE: {MAPE_put:.4f}%')



Res_Call_options = pd.DataFrame({'Underlying Price': ScaledFeatures_for_call_options[:, 0],
                             'Strike 1': ScaledFeatures_for_call_options[:, 1],
                             'Actual Close price': Data_Target_call,
                             'Predicted Price': train_predictions_call})


Res_Call_options['Prediction Difference'] = Res_Call_options['Actual Close price'] - Res_Call_options['Predicted Price']
Res_Call_options['Average Prediction Difference (ANN with Grid Search)'] = Res_Call_options['Prediction Difference'].mean()


Res_Call_options['MSE'] = MSE_call
Res_Call_options['MAE'] = MAE_call
Res_Call_options['MAPE'] = MAPE_call


print("Call Options Results:")
print(Res_Call_options)

Res_Put_options = pd.DataFrame({'Underlying Price': ScaledFeatures_for_put_options[:, 0],
                            'Strike 1': ScaledFeatures_for_put_options[:, 1],
                            'Actual Close price': Data_Target_put,
                            'Predicted Price': train_predictions_put})


Res_Put_options['Prediction Difference'] = Res_Put_options['Actual Close price'] - Res_Put_options['Predicted Price']
Res_Put_options['Average Prediction Difference'] = Res_Put_options['Prediction Difference'].mean()


Res_Put_options['MSE'] = MSE_put
Res_Put_options['MAE'] = MAE_put
Res_Put_options['MAPE'] = MAPE_put


print("\nPut Options Results:")
print(Res_Put_options)


with pd.ExcelWriter('training_with-grid-search_2.xlsx') as writer:
    Res_Call_options.to_excel(writer, sheet_name='Call_Options', index=False)
    Res_Put_options.to_excel(writer, sheet_name='Put_Options', index=False)

plt.figure(figsize=(12, 6))


plt.subplot(1, 2, 1)
plt.plot(range(len(Data_Target_call)), Data_Target_call, label='Actual CALL Price', color='blue', marker='o')
plt.plot(range(len(Res_Call_options['Predicted Price'])), Res_Call_options['Predicted Price'], label='Predicted CALL Price (ANN+Grid search)', color='red', marker='x')
plt.xlabel('Data Point')
plt.ylabel('Price')
plt.title('Project 2. :Actual vs Predicted CALL Option Price')
plt.legend()
plt.grid(True)


plt.subplot(1, 2, 2)
plt.hist(Res_Call_options['Prediction Difference'], bins=30, color='green', alpha=0.7)
plt.xlabel('Prediction Difference')
plt.ylabel('Frequency')
plt.title('Histogram of Prediction Differences (CALL Options) (ANN with Grid Search) MinMax scaler')
plt.grid(True)

plt.tight_layout()
plt.show()


plt.figure(figsize=(12, 6))


plt.subplot(1, 2, 1)
plt.plot(range(len(Data_Target_put)), Data_Target_put, label='Actual PUT Price', color='blue', marker='o')
plt.plot(range(len(Res_Put_options['Predicted Price'])), Res_Put_options['Predicted Price'], label='Predicted PUT Price (ANN+Grid search)', color='red', marker='x')
plt.xlabel('Data Point')
plt.ylabel('Price')
plt.title('Project 2. :Actual vs Predicted PUT Option Prices ')
plt.legend()
plt.grid(True)


plt.subplot(1, 2, 2)
plt.hist(Res_Put_options['Prediction Difference'], bins=30, color='green', alpha=0.7)
plt.xlabel('Prediction Difference')
plt.ylabel('Frequency')
plt.title('Histogram of Prediction Differences (PUT Options) (ANN with Grid Search) MinMax scaler')
plt.grid(True)

plt.tight_layout()
plt.show()






import pandas as pd
import numpy as np
import torch
import torch.nn as nn
import torch.optim as optim
from sklearn.preprocessing import MinMaxScaler
from sklearn.ensemble import AdaBoostRegressor
import matplotlib.pyplot as plt
import random


seed = 279
torch.manual_seed(seed)
np.random.seed(seed)
random.seed(seed)



Data_for_call_options= pd.read_excel('train_data.xlsx', sheet_name='GLD_call')
Data_for_put_options = pd.read_excel('train_data.xlsx', sheet_name='GLD_put')




Features_for_call_options = Data_for_call_options[['Underlying Price', 'Strike 1']].copy()
Features_for_call_options['Time to Maturity'] = 5 / 365
Data_Target_call = Data_for_call_options['Close']

Features_for_put_options = Data_for_put_options[['Underlying Price', 'Strike 1']].copy()
Features_for_put_options['Time to Maturity'] = 5 / 365
Data_Target_put = Data_for_put_options['Close']

Features_for_call_options['Underlying Price'] = pd.to_numeric(Features_for_call_options['Underlying Price'], errors='coerce')
Features_for_put_options['Underlying Price'] = pd.to_numeric(Features_for_put_options['Underlying Price'], errors='coerce')

Features_for_call_options = Features_for_call_options.dropna(subset=['Underlying Price'])
Features_for_put_options = Features_for_put_options.dropna(subset=['Underlying Price'])

scaler_for_call_options = MinMaxScaler()
ScaledFeatures_for_call_options = scaler_for_call_options.fit_transform(Features_for_call_options)

scaler_for_put_options = MinMaxScaler()
ScaledFeatures_for_put_options = scaler_for_put_options.fit_transform(Features_for_put_options)

X_train_call, y_train_call = ScaledFeatures_for_call_options, Data_Target_call.values.reshape(-1, 1)
X_train_put, y_train_put = ScaledFeatures_for_put_options, Data_Target_put.values.reshape(-1, 1)

class ThreeInOptionsPricingANN(nn.Module):
    def __init__(self, input_param, output_param):
        super(ThreeInOptionsPricingANN, self).__init__()
        self.L1 = nn.Linear(input_param, 150)
        self.RELU_1 = nn.ReLU()
        self.L2 = nn.Linear(150, 100)
        self.RELU_2 = nn.ReLU()
        self.L3 = nn.Linear(100, 80)
        self.RELU_3 = nn.ReLU()
        self.L4 = nn.Linear(80, 60)
        self.RELU_4 = nn.ReLU()
        self.L5 = nn.Linear(60, 40)
        self.RELU_5 = nn.ReLU()
        self.L6 = nn.Linear(40, 20)
        self.RELU_6 = nn.ReLU()
        self.L7 = nn.Linear(20, output_param)

    def forward(self, x):
        x = self.L1(x)
        x = self.RELU_1(x)
        x = self.L2(x)
        x = self.RELU_2(x)
        x = self.L3(x)
        x = self.RELU_3(x)
        x = self.L4(x)
        x = self.RELU_4(x)
        x = self.L5(x)
        x = self.RELU_5(x)
        x = self.L6(x)
        x = self.RELU_6(x)
        x = self.L7(x)
        return x


input_param_call = X_train_call.shape[1]
output_param = 1
Model_Call_options = ThreeInOptionsPricingANN(input_param_call, output_param)

input_param_put = X_train_put.shape[1]
Model_for_put_options = ThreeInOptionsPricingANN(input_param_put, output_param)

call_options_Criteria = nn.MSELoss()
Optimizer_for_calls = optim.Adam(Model_Call_options.parameters(), lr=0.001)

Put_options_Criteria = nn.MSELoss()
optimizer_put = optim.Adam(Model_for_put_options.parameters(), lr=0.001)


Num_Epochs = 2000
for Epoch in range(Num_Epochs):
    Optimizer_for_calls.zero_grad()
    Target_out_call = Model_Call_options(torch.tensor(X_train_call, dtype=torch.float32))
    Loss_for_call_options = call_options_Criteria(Target_out_call, torch.tensor(y_train_call, dtype=torch.float32))
    Loss_for_call_options.backward()
    Optimizer_for_calls.step()
    if (Epoch + 1) % 100 == 0:
        print(f'Epoch [{Epoch+1}/{Num_Epochs}], Loss (CALL): {Loss_for_call_options.item():.4f}')


for Epoch in range(Num_Epochs):
    optimizer_put.zero_grad()
    Target_out_put = Model_for_put_options(torch.tensor(X_train_put, dtype=torch.float32))
    Loss_for_put_options = Put_options_Criteria(Target_out_put, torch.tensor(y_train_put, dtype=torch.float32))
    Loss_for_put_options.backward()
    optimizer_put.step()
    if (Epoch + 1) % 100 == 0:
        print(f'Epoch [{Epoch+1}/{Num_Epochs}], Loss (PUT): {Loss_for_put_options.item():.4f}')

with torch.no_grad():
    Model_Call_options.eval()
    test_predictions_call = Model_Call_options(torch.tensor(X_train_call, dtype=torch.float32)).numpy().flatten()

with torch.no_grad():
    Model_for_put_options.eval()
    test_predictions_put = Model_for_put_options(torch.tensor(X_train_put, dtype=torch.float32)).numpy().flatten()


def Metrics(actual, predicted):
    MSE = np.mean((actual - predicted) ** 2)
    MAE = np.mean(np.abs(actual - predicted))
    MAPE = np.mean(np.abs((actual - predicted) / actual)) * 100
    return MSE, MAE, MAPE


MSE_call, MAE_call, MAPE_call = Metrics(y_train_call, test_predictions_call)
print(f'CALL Options - MSE: {MSE_call:.4f}, MAE: {MAE_call:.4f}, MAPE: {MAPE_call:.4f}%')


MSE_put, MAE_put, MAPE_put = Metrics(y_train_put, test_predictions_put)
print(f'PUT Options - MSE: {MSE_put:.4f}, MAE: {MAE_put:.4f}, MAPE: {MAPE_put:.4f}%')


with torch.no_grad():
    Model_Call_options.eval()
    all_predictions_call = Model_Call_options(torch.tensor(X_train_call, dtype=torch.float32)).numpy().flatten()

with torch.no_grad():
    Model_for_put_options.eval()
    all_predictions_put = Model_for_put_options(torch.tensor(X_train_put, dtype=torch.float32)).numpy().flatten()


adaboost_call = AdaBoostRegressor(n_estimators=50, random_state=42)
adaboost_call.fit(np.concatenate((X_train_call, all_predictions_call.reshape(-1, 1)), axis=1), y_train_call.flatten())


adaboost_put = AdaBoostRegressor(n_estimators=50, random_state=42)
adaboost_put.fit(np.concatenate((X_train_put, all_predictions_put.reshape(-1, 1)), axis=1), y_train_put.flatten())


test_predictions_adaboost_call = adaboost_call.predict(np.concatenate((X_train_call, test_predictions_call.reshape(-1, 1)), axis=1))


test_predictions_adaboost_put = adaboost_put.predict(np.concatenate((X_train_put, test_predictions_put.reshape(-1, 1)), axis=1))


MSE_adaboost_call, MAE_adaboost_call, MAPE_adaboost_call = Metrics(y_train_call, test_predictions_adaboost_call)
print(f'Combined Model (AdaBoost + ANN) for CALL Options - MSE: {MSE_adaboost_call:.4f}, MAE: {MAE_adaboost_call:.4f}, MAPE: {MAPE_adaboost_call:.4f}%')


MSE_adaboost_put, MAE_adaboost_put, MAPE_adaboost_put = Metrics(y_train_put, test_predictions_adaboost_put)
print(f'Combined Model (AdaBoost + ANN) for PUT Options - MSE: {MSE_adaboost_put:.4f}, MAE: {MAE_adaboost_put:.4f}, MAPE: {MAPE_adaboost_put:.4f}%')


plt.figure(figsize=(12, 6))


plt.subplot(1, 2, 1)
plt.plot(range(len(y_train_call)), y_train_call, label='Actual CALL Price', color='blue', marker='o')
plt.plot(range(len(y_train_call)), test_predictions_adaboost_call, label='Predicted CALL Price (AdaBoost + ANN)', color='red', marker='x')
plt.xlabel('Data Point')
plt.ylabel('Price (USD)')
plt.title('Project 2. :Actual vs Predicted CALL Option Prices')
plt.legend()
plt.grid(True)


plt.subplot(1, 2, 2)
plt.hist(y_train_call.flatten() - test_predictions_adaboost_call, bins=30, color='green', alpha=0.7)
plt.xlabel('Prediction Difference (in USD)')
plt.ylabel('Frequency')
plt.title('Histogram of Prediction Differences - (AdaBoost + ANN) SPDR Gold Shares ETF')
plt.grid(True)

plt.tight_layout()
plt.show()


plt.figure(figsize=(12, 6))


plt.subplot(1, 2, 1)
plt.plot(range(len(y_train_put)), y_train_put, label='Actual PUT Price', color='blue', marker='o')
plt.plot(range(len(y_train_put)), test_predictions_adaboost_put, label='Predicted PUT Price (AdaBoost + ANN)', color='red', marker='x')
plt.xlabel('Data Point')
plt.ylabel('Price (USD)')
plt.title('Project 2. :Actual vs Predicted PUT Option Prices ')
plt.legend()
plt.grid(True)

plt.subplot(1, 2, 2)
plt.hist(y_train_put.flatten() - test_predictions_adaboost_put, bins=30, color='green', alpha=0.7)
plt.xlabel('Prediction Difference (in USD)')
plt.ylabel('Frequency')
plt.title('Histogram of Prediction Differences (AdaBoost + ANN) SPDR Gold Shares ETF')
plt.grid(True)

plt.tight_layout()
plt.show()


Res_Call_options_combined = pd.DataFrame({'Actual Price': y_train_call.flatten(),
                                      'Predicted Price (ANN)': test_predictions_call,
                                      'Predicted Price (AdaBoost + ANN)': test_predictions_adaboost_call})
Res_Call_options_combined.to_csv('call_options_results.csv', index=False)


Res_Call_options_combined['Prediction Difference'] = Res_Call_options_combined['Actual Price'] - Res_Call_options_combined['Predicted Price (ANN)']
Res_Call_options_combined['Average Prediction Difference'] = Res_Call_options_combined['Prediction Difference'].mean()


Res_Call_options_combined['MSE'] = MSE_call
Res_Call_options_combined['MAE'] = MAE_call
Res_Call_options_combined['MAPE'] = MAPE_call


print("Call Options Results:")
print(Res_Call_options_combined)


Res_Put_options_combined = pd.DataFrame({'Underlying Price': X_train_put[:, 0],
                                     'Strike 1': X_train_put[:, 1],
                                     'Actual Close price': y_train_put.flatten(),
                                     'Predicted Price (ANN)': test_predictions_put})


Res_Put_options_combined['Prediction Difference'] = Res_Put_options_combined['Actual Close price'] - Res_Put_options_combined['Predicted Price (ANN)']
Res_Put_options_combined['Average Prediction Difference'] = Res_Put_options_combined['Prediction Difference'].mean()


Res_Put_options_combined['MSE'] = MSE_put
Res_Put_options_combined['MAE'] = MAE_put
Res_Put_options_combined['MAPE'] = MAPE_put


print("Put Options Results:")
print(Res_Put_options_combined)


Res_Put_options_combined.to_csv('put_options_results.csv', index=False)


with pd.ExcelWriter('options_results_combined.xlsx') as writer:

    Res_Call_options_combined.to_excel(writer, sheet_name='Call_Options_Ensemble', index=False)


    Res_Put_options_combined.to_excel(writer, sheet_name='Put_Options_Ensemble', index=False)


Res_Call_options_combined['Underlying Price'] = X_train_call[:, 0]
Res_Call_options_combined['Strike Price'] = X_train_call[:, 1]

Res_Put_options_combined['Underlying Price'] = X_train_put[:, 0]
Res_Put_options_combined['Strike Price'] = X_train_put[:, 1]


combined_results = pd.concat([Res_Call_options_combined, Res_Put_options_combined], keys=['Call Options', 'Put Options'])



with pd.ExcelWriter('GLD_training_results_ANN_and_Adaboost_2.xlsx') as writer:

    Res_Call_options_combined.to_excel(writer, sheet_name='GLD_Call_results', index=False)


    Res_Put_options_combined.to_excel(writer, sheet_name='GLD_Put_results', index=False)


import pandas as pd
import torch
import matplotlib.pyplot as plt
from sklearn.metrics import mean_squared_error, mean_absolute_error
import numpy as np


testing_Data_for_call_options= pd.read_excel('test_data.xlsx', sheet_name='GLD_call')
testing_Data_for_put_options = pd.read_excel('test_data.xlsx', sheet_name='GLD_put')


testing_Features_for_call_options = testing_Data_for_call_options[['Underlying Price', 'Strike 1']].copy()
testing_Features_for_call_options['Time to Maturity'] = 5 / 365
testing_Data_Target_call = testing_Data_for_call_options['Close']

testing_Features_for_put_options = testing_Data_for_put_options[['Underlying Price', 'Strike 1']].copy()
testing_Features_for_put_options['Time to Maturity'] = 5 / 365
testing_Data_Target_put = testing_Data_for_put_options['Close']


testing_scaledFeatures_for_call_options = scaler_for_call_options.transform(testing_Features_for_call_options)
testing_scaledFeatures_for_put_options = scaler_for_put_options.transform(testing_Features_for_put_options)


with torch.no_grad():
    Model_Call_options.eval()
    test_predictions_call = Model_Call_options(torch.tensor(testing_scaledFeatures_for_call_options, dtype=torch.float32)).numpy().flatten()


with torch.no_grad():
    Model_for_put_options.eval()
    test_predictions_put = Model_for_put_options(torch.tensor(testing_scaledFeatures_for_put_options, dtype=torch.float32)).numpy().flatten()


MSE_call_test = mean_squared_error(testing_Data_Target_call, test_predictions_call)
MAE_call_test = mean_absolute_error(testing_Data_Target_call, test_predictions_call)
MAPE_call_test = np.mean(np.abs((testing_Data_Target_call - test_predictions_call) / testing_Data_Target_call)) * 100

print(f'CALL Options - MSE (Testing): {MSE_call_test:.4f}, MAE (Testing): {MAE_call_test:.4f}, MAPE (Testing): {MAPE_call_test:.4f}%')


MSE_put_test = mean_squared_error(testing_Data_Target_put, test_predictions_put)
MAE_put_test = mean_absolute_error(testing_Data_Target_put, test_predictions_put)
MAPE_put_test = np.mean(np.abs((testing_Data_Target_put - test_predictions_put) / testing_Data_Target_put)) * 100

print(f'PUT Options - MSE (Testing): {MSE_put_test:.4f}, MAE (Testing): {MAE_put_test:.4f}, MAPE (Testing): {MAPE_put_test:.4f}%')


call_testing_results = pd.DataFrame({'Underlying Price': testing_scaledFeatures_for_call_options[:, 0],
                                     'Strike 1': testing_scaledFeatures_for_call_options[:, 1],
                                     'Actual Close price': testing_Data_Target_call,
                                     'Predicted Price': test_predictions_call})

put_testing_results = pd.DataFrame({'Underlying Price': testing_scaledFeatures_for_put_options[:, 0],
                                    'Strike 1': testing_scaledFeatures_for_put_options[:, 1],
                                    'Actual Close price': testing_Data_Target_put,
                                    'Predicted Price': test_predictions_put})


call_testing_results['Prediction Difference'] = call_testing_results['Actual Close price'] - call_testing_results['Predicted Price']
put_testing_results['Prediction Difference'] = put_testing_results['Actual Close price'] - put_testing_results['Predicted Price']


call_testing_results['Average Prediction Difference'] = call_testing_results['Prediction Difference'].mean()
put_testing_results['Average Prediction Difference'] = put_testing_results['Prediction Difference'].mean()

plt.figure(figsize=(12, 6))


plt.subplot(1, 2, 1)
plt.plot(range(len(testing_Data_Target_call)), testing_Data_Target_call, label='Actual CALL Price', color='blue', marker='o')
plt.plot(range(len(call_testing_results['Predicted Price'])), call_testing_results['Predicted Price'], label='Predicted CALL Price', color='red', marker='x')
plt.xlabel('Data Point')
plt.ylabel('Price (USD)')
plt.title('Project 2. : Actual vs Predicted CALL Option Prices ')
plt.legend()
plt.grid(True)


plt.subplot(1, 2, 2)
plt.hist(call_testing_results['Prediction Difference'], bins=30, color='green', alpha=0.7)
plt.xlabel('Prediction Difference (in USD)')
plt.ylabel('Frequency')
plt.title('Histogram of Prediction Differences (Testing with ANN + AdaBoost)  ')
plt.grid(True)

plt.tight_layout()
plt.show()


plt.figure(figsize=(12, 6))


plt.subplot(1, 2, 1)
plt.plot(range(len(testing_Data_Target_put)), testing_Data_Target_put, label='Actual PUT Price', color='blue', marker='o')
plt.plot(range(len(put_testing_results['Predicted Price'])), put_testing_results['Predicted Price'], label='Predicted PUT Price', color='red', marker='x')
plt.xlabel('Data Point')
plt.ylabel('Price (USD)')
plt.title('Project 2. : Actual vs Predicted PUT Option Prices ')
plt.legend()
plt.grid(True)


plt.subplot(1, 2, 2)
plt.hist(put_testing_results['Prediction Difference'], bins=30, color='green', alpha=0.7)
plt.xlabel('Prediction Difference (in USD)')
plt.ylabel('Frequency')
plt.title('Histogram of Prediction Differences (Testing with ANN + AdaBoost)  ')
plt.grid(True)

plt.tight_layout()
plt.show()



print("Call Options Testing Results:")
print("Average Prediction Difference:", call_testing_results['Average Prediction Difference'])
print("Individual Prediction Differences:")
print(call_testing_results['Prediction Difference'])


print("\nPut Options Testing Results:")
print("Average Prediction Difference:", put_testing_results['Average Prediction Difference'])
print("Individual Prediction Differences:")
print(put_testing_results['Prediction Difference'])



average_prediction_difference_call = call_testing_results['Prediction Difference'].mean()
average_prediction_difference_put = put_testing_results['Prediction Difference'].mean()


print("Average Prediction Difference for Call Options (Testing):", average_prediction_difference_call)
print("Average Prediction Difference for Put Options (Testing):", average_prediction_difference_put)


call_testing_results['MSE'] = MSE_call_test
call_testing_results['MAE'] = MAE_call_test
call_testing_results['MAPE'] = MAPE_call_test


put_testing_results['MSE'] = MSE_put_test
put_testing_results['MAE'] = MAE_put_test
put_testing_results['MAPE'] = MAPE_put_test


print("Call Options Testing Results:")
print(call_testing_results)

print("Put Options Testing Results:")
print(put_testing_results)



with pd.ExcelWriter('GLD_testing_results_with_ANN_and_Adaboost.xlsx') as writer:

    call_testing_results.to_excel(writer, sheet_name='Call_Options', index=False)


    put_testing_results.to_excel(writer, sheet_name='Put_Options', index=False)








import pandas as pd
import numpy as np
import torch
import torch.nn as nn
import torch.optim as optim
from sklearn.preprocessing import MinMaxScaler
import matplotlib.pyplot as plt
import random


seed = 279
torch.manual_seed(seed)
np.random.seed(seed)
random.seed(seed)


Data_for_call_options= pd.read_excel('train_data.xlsx', sheet_name='GLD_call')
Data_for_put_options = pd.read_excel('train_data.xlsx', sheet_name='GLD_put')

Features_for_call_options = Data_for_call_options[['Underlying Price', 'Strike 1']].copy()
Features_for_call_options['Time to Maturity'] = 5 / 365
Data_Target_call = Data_for_call_options['Close']

Features_for_put_options = Data_for_put_options[['Underlying Price', 'Strike 1']].copy()
Features_for_put_options['Time to Maturity'] = 5 / 365
Data_Target_put = Data_for_put_options['Close']

Features_for_call_options['Underlying Price'] = pd.to_numeric(Features_for_call_options['Underlying Price'], errors='coerce')
Features_for_put_options['Underlying Price'] = pd.to_numeric(Features_for_put_options['Underlying Price'], errors='coerce')

Features_for_call_options = Features_for_call_options.dropna(subset=['Underlying Price'])
Features_for_put_options = Features_for_put_options.dropna(subset=['Underlying Price'])

scaler_for_call_options = MinMaxScaler()
ScaledFeatures_for_call_options = scaler_for_call_options.fit_transform(Features_for_call_options)

scaler_for_put_options = MinMaxScaler()
ScaledFeatures_for_put_options = scaler_for_put_options.fit_transform(Features_for_put_options)

X_call = torch.tensor(ScaledFeatures_for_call_options, dtype=torch.float32)
Y_call = torch.tensor(Data_Target_call.values, dtype=torch.float32).view(-1, 1)

X_put = torch.tensor(ScaledFeatures_for_put_options, dtype=torch.float32)
Y_put = torch.tensor(Data_Target_put.values, dtype=torch.float32).view(-1, 1)

class ThreeInOptionsPricingANNMLP(nn.Module):
    def __init__(self, input_dim):
        super(ThreeInOptionsPricingANNMLP, self).__init__()
        self.L1 = nn.Linear(input_dim, 64)
        self.relu = nn.ReLU()
        self.L2 = nn.Linear(64, 32)
        self.L3 = nn.Linear(32, 1)

    def forward(self, x):
        x = self.relu(self.L1(x))
        x = self.relu(self.L2(x))
        x = self.L3(x)
        return x

input_dim_call = X_call.shape[1]
Model_Call_options = ThreeInOptionsPricingANNMLP(input_dim_call)

input_dim_put = X_put.shape[1]
Model_for_put_options = ThreeInOptionsPricingANNMLP(input_dim_put)

call_options_Criteria = nn.MSELoss()
Optimizer_for_calls = optim.Adam(Model_Call_options.parameters(), lr=0.001)

Put_options_Criteria = nn.MSELoss()
optimizer_put = optim.Adam(Model_for_put_options.parameters(), lr=0.001)

Num_Epochs = 2000
for Epoch in range(Num_Epochs):
    Optimizer_for_calls.zero_grad()
    Target_out_call = Model_Call_options(X_call)
    Loss_for_call_options = call_options_Criteria(Target_out_call, Y_call)
    Loss_for_call_options.backward()
    Optimizer_for_calls.step()
    if (Epoch + 1) % 100 == 0:
        print(f'Epoch [{Epoch+1}/{Num_Epochs}], Loss (CALL): {Loss_for_call_options.item():.4f}')

for Epoch in range(Num_Epochs):
    optimizer_put.zero_grad()
    Target_out_put = Model_for_put_options(X_put)
    Loss_for_put_options = Put_options_Criteria(Target_out_put, Y_put)
    Loss_for_put_options.backward()
    optimizer_put.step()
    if (Epoch + 1) % 100 == 0:
        print(f'Epoch [{Epoch+1}/{Num_Epochs}], Loss (PUT): {Loss_for_put_options.item():.4f}')

with torch.no_grad():
    Model_Call_options.eval()
    predictions_call = Model_Call_options(X_call).numpy().flatten()

with torch.no_grad():
    Model_for_put_options.eval()
    predictions_put = Model_for_put_options(X_put).numpy().flatten()

def Metrics(actual, predicted):
    MSE = np.mean((actual - predicted) ** 2)
    MAE = np.mean(np.abs(actual - predicted))
    MAPE = np.mean(np.abs((actual - predicted) / actual)) * 100
    return MSE, MAE, MAPE

MSE_call, MAE_call, MAPE_call = Metrics(Data_Target_call, predictions_call)
print(f'CALL Options - MSE: {MSE_call:.4f}, MAE: {MAE_call:.4f}, MAPE: {MAPE_call:.4f}%')

MSE_put, MAE_put, MAPE_put = Metrics(Data_Target_put, predictions_put)
print(f'PUT Options - MSE: {MSE_put:.4f}, MAE: {MAE_put:.4f}, MAPE: {MAPE_put:.4f}%')

Res_Call_options = pd.DataFrame({'Underlying Price': Features_for_call_options['Underlying Price'],
                             'Strike 1': Features_for_call_options['Strike 1'],
                             'Actual Close price': Data_Target_call,
                             'Predicted Price': predictions_call})

Res_Call_options['Prediction Difference'] = Res_Call_options['Actual Close price'] - Res_Call_options['Predicted Price']
Res_Call_options['Average Prediction Difference'] = Res_Call_options['Prediction Difference'].mean()

Res_Call_options['MSE'] = MSE_call
Res_Call_options['MAE'] = MAE_call
Res_Call_options['MAPE'] = MAPE_call

print("Call Options Results:")
print(Res_Call_options)

Res_Put_options = pd.DataFrame({'Underlying Price': Features_for_put_options['Underlying Price'],
                            'Strike 1': Features_for_put_options['Strike 1'],
                            'Actual Close price': Data_Target_put,
                            'Predicted Price': predictions_put})

Res_Put_options['Prediction Difference'] = Res_Put_options['Actual Close price'] - Res_Put_options['Predicted Price']
Res_Put_options['Average Prediction Difference'] = Res_Put_options['Prediction Difference'].mean()

Res_Put_options['MSE'] = MSE_put
Res_Put_options['MAE'] = MAE_put
Res_Put_options['MAPE'] = MAPE_put

print("Put Options Results:")
print(Res_Put_options)

with pd.ExcelWriter('GLD_training_with_MLP_only.xlsx') as writer:
  Res_Call_options.to_excel(writer, sheet_name='Call_Options', index=False)
  Res_Put_options.to_excel(writer, sheet_name='Put_Options', index=False)

plt.figure(figsize=(12, 6))

plt.subplot(1, 2, 1)
plt.plot(range(len(Data_Target_call)), Data_Target_call, label='Actual CALL Price', color='blue', marker='o')
plt.plot(range(len(Res_Call_options['Predicted Price'])), Res_Call_options['Predicted Price'], label='Predicted CALL Price (MLP)', color='red', marker='x')
plt.xlabel('Data Point')
plt.ylabel('Price')
plt.title('Project 2. :Actual vs Predicted CALL Option Prices (MLP)')
plt.legend()
plt.grid(True)

plt.subplot(1, 2, 2)
plt.hist(Res_Call_options['Prediction Difference'], bins=30, color='green', alpha=0.7)
plt.xlabel('Prediction Difference')
plt.ylabel('Frequency')
plt.title('Histogram of Prediction Differences (CALL Options) Training')
plt.grid(True)

plt.tight_layout()
plt.show()

plt.figure(figsize=(12, 6))

plt.subplot(1, 2, 1)
plt.plot(range(len(Data_Target_put)), Data_Target_put, label='Actual PUT Price', color='blue', marker='o')
plt.plot(range(len(Res_Put_options['Predicted Price'])), Res_Put_options['Predicted Price'], label='Predicted PUT Price (MLP)', color='red', marker='x')
plt.xlabel('Data Point')
plt.ylabel('Price')
plt.title('Project 2. :Actual vs Predicted PUT Option Prices (MLP)')
plt.legend()
plt.grid(True)

plt.subplot(1, 2, 2)
plt.hist(Res_Put_options['Prediction Difference'], bins=30, color='green', alpha=0.7)
plt.xlabel('Prediction Difference')
plt.ylabel('Frequency')
plt.title('Histogram of Prediction Differences (PUT Options) Training')
plt.grid(True)

plt.tight_layout()
plt.show()

import pandas as pd
import torch
import matplotlib.pyplot as plt

testing_Data_for_call_options= pd.read_excel('test_data.xlsx', sheet_name='GLD_call')
testing_Data_for_put_options = pd.read_excel('test_data.xlsx', sheet_name='GLD_put')

testing_Features_for_call_options = testing_Data_for_call_options[['Underlying Price', 'Strike 1']].copy()
testing_Features_for_call_options['Time to Maturity'] = 5 / 365
testing_Data_Target_call = testing_Data_for_call_options['Close']

testing_Features_for_put_options = testing_Data_for_put_options[['Underlying Price', 'Strike 1']].copy()
testing_Features_for_put_options['Time to Maturity'] = 5 / 365
testing_Data_Target_put = testing_Data_for_put_options['Close']


testing_scaledFeatures_for_call_options = scaler_for_call_options.transform(testing_Features_for_call_options)
testing_scaledFeatures_for_put_options = scaler_for_put_options.transform(testing_Features_for_put_options)

with torch.no_grad():
    Model_Call_options.eval()
    test_predictions_call = Model_Call_options(torch.tensor(testing_scaledFeatures_for_call_options, dtype=torch.float32)).numpy().flatten()

with torch.no_grad():
    Model_for_put_options.eval()
    test_predictions_put = Model_for_put_options(torch.tensor(testing_scaledFeatures_for_put_options, dtype=torch.float32)).numpy().flatten()


MSE_call_test, MAE_call_test, MAPE_call_test = Metrics(testing_Data_Target_call, test_predictions_call)
print(f'CALL Options - MSE (Testing): {MSE_call_test:.4f}, MAE (Testing): {MAE_call_test:.4f}, MAPE (Testing): {MAPE_call_test:.4f}%')


MSE_put_test, MAE_put_test, MAPE_put_test = Metrics(testing_Data_Target_put, test_predictions_put)
print(f'PUT Options - MSE (Testing): {MSE_put_test:.4f}, MAE (Testing): {MAE_put_test:.4f}, MAPE (Testing): {MAPE_put_test:.4f}%')


call_testing_results = pd.DataFrame({'Underlying Price': testing_scaledFeatures_for_call_options[:, 0],
                                     'Strike 1': testing_scaledFeatures_for_call_options[:, 1],
                                     'Actual Close price': testing_Data_Target_call,
                                     'Predicted Price': test_predictions_call})

put_testing_results = pd.DataFrame({'Underlying Price': testing_scaledFeatures_for_put_options[:, 0],
                                    'Strike 1': testing_scaledFeatures_for_put_options[:, 1],
                                    'Actual Close price': testing_Data_Target_put,
                                    'Predicted Price': test_predictions_put})


call_testing_results['Prediction Difference'] = call_testing_results['Actual Close price'] - call_testing_results['Predicted Price']
put_testing_results['Prediction Difference'] = put_testing_results['Actual Close price'] - put_testing_results['Predicted Price']


call_testing_results['Average Prediction Difference'] = call_testing_results['Prediction Difference'].mean()
put_testing_results['Average Prediction Difference'] = put_testing_results['Prediction Difference'].mean()

print("Call Options Testing Results:")
print("Average Prediction Difference:", call_testing_results['Average Prediction Difference'])
print("Individual Prediction Differences:")
print(call_testing_results['Prediction Difference'])

print("\nPut Options Testing Results:")
print("Average Prediction Difference:", put_testing_results['Average Prediction Difference'])
print("Individual Prediction Differences:")
print(put_testing_results['Prediction Difference'])



average_prediction_difference_call = call_testing_results['Prediction Difference'].mean()
average_prediction_difference_put = put_testing_results['Prediction Difference'].mean()

print("Average Prediction Difference for Call Options (Testing):", average_prediction_difference_call)
print("Average Prediction Difference for Put Options (Testing):", average_prediction_difference_put)

call_testing_results['MSE'] = MSE_call_test
call_testing_results['MAE'] = MAE_call_test
call_testing_results['MAPE'] = MAPE_call_test

put_testing_results['MSE'] = MSE_put_test
put_testing_results['MAE'] = MAE_put_test
put_testing_results['MAPE'] = MAPE_put_test

print("Call Options Testing Results:")
print(call_testing_results)

print("Put Options Testing Results:")
print(put_testing_results)


with pd.ExcelWriter('GLD_testing_with_MLP_3.xlsx') as writer:
    call_testing_results.to_excel(writer, sheet_name='Call_Options', index=False)

    put_testing_results.to_excel(writer, sheet_name='Put_Options', index=False)


plt.figure(figsize=(12, 6))

plt.subplot(1, 2, 1)
plt.plot(range(len(testing_Data_Target_call)), testing_Data_Target_call, label='Actual CALL Price', color='blue', marker='o')
plt.plot(range(len(call_testing_results['Predicted Price'])), call_testing_results['Predicted Price'], label='Predicted CALL Price (MLP)', color='red', marker='x')
plt.xlabel('Data Point')
plt.ylabel('Price')
plt.title('Project 2. :Actual vs Predicted CALL Option Prices (Testing with MLP) ')
plt.legend()
plt.grid(True)

plt.subplot(1, 2, 2)
plt.hist(call_testing_results['Prediction Difference'], bins=30, color='green', alpha=0.7)
plt.xlabel('Prediction Difference')
plt.ylabel('Frequency')
plt.title('Histogram of Prediction Differences (CALL Options -Testing with MLP ) ')
plt.grid(True)

plt.tight_layout()
plt.show()

plt.figure(figsize=(12, 6))

plt.subplot(1, 2, 1)
plt.plot(range(len(testing_Data_Target_put)), testing_Data_Target_put, label='Actual PUT Price', color='blue', marker='o')
plt.plot(range(len(put_testing_results['Predicted Price'])), put_testing_results['Predicted Price'], label='Predicted PUT Price (MLP)', color='red', marker='x')
plt.xlabel('Data Point')
plt.ylabel('Price')
plt.title('Project 2. :Actual vs Predicted PUT Option Prices (Testing with MLP)  ')
plt.legend()
plt.grid(True)

plt.subplot(1, 2, 2)
plt.hist(put_testing_results['Prediction Difference'], bins=30, color='green', alpha=0.7)
plt.xlabel('Prediction Difference')
plt.ylabel('Frequency')
plt.title('Histogram of Prediction Differences (PUT Options - Testing with MLP)')
plt.grid(True)

plt.tight_layout()
plt.show()








import numpy as np
import pandas as pd
from scipy.stats import norm
from sklearn.model_selection import train_test_split
from sklearn.preprocessing import MinMaxScaler
import torch
import torch.nn as nn
import torch.optim as optim
import matplotlib.pyplot as plt
import random

seed = 279
torch.manual_seed(seed)
np.random.seed(seed)
random.seed(seed)



def BlackScholes_Call_Price(Spot_Price, Strike_Price, Time_Maturity, Risk_FreeRate, Volatility):
    assert Spot_Price.shape == Strike_Price.shape == Time_Maturity.shape == Risk_FreeRate.shape == Volatility.shape, "Input array shapes do not match"
    D1 = (np.log(Spot_Price/ Strike_Price) + (Risk_FreeRate + 0.5 * Volatility ** 2) * Time_Maturity) / (Volatility * np.sqrt(Time_Maturity))
    D2 = D1 - Volatility * np.sqrt(Time_Maturity)
    NormalD1 = norm.cdf(D1)
    NormalD2 = norm.cdf(D2)
    Call_Price = Spot_Price * NormalD1 - Strike_Price * np.exp(-Risk_FreeRate * Time_Maturity) * NormalD2
    return Call_Price, NormalD1, NormalD2



def  Check_Gen_Data(data):
    SpotPriceRange = (0, 1)
    StrikePriceRange = (0, 1)
    RiskFreeRateRange = (0, 0.2)
    TimeMaturityRange = (0.04, 2)
    VolatilityRange = (0, 0.35)

    CheckTheSpotPrice= all(SpotPriceRange[0] <= data['Spot-Price']) and all(data['Spot-Price'] <= SpotPriceRange[1])
    CheckTheStrikePrice = all(StrikePriceRange[0] <= data['Strike-Price']) and all(data['Strike-Price'] <= StrikePriceRange[1])
    CheckTheRiskFreeRate = all(RiskFreeRateRange[0] <= data['Risk-Free-Rate']) and all(data['Risk-Free-Rate'] <= RiskFreeRateRange[1])
    CheckTheTime_to_maturity = all(TimeMaturityRange[0] <= data['Time-to-Maturity']) and all(data['Time-to-Maturity'] <= TimeMaturityRange[1])
    CheckTheVolatility= all(VolatilityRange[0] <= data['Volatility']) and all(data['Volatility'] <= VolatilityRange[1])
    return CheckTheSpotPrice and CheckTheStrikePrice and CheckTheRiskFreeRate and CheckTheTime_to_maturity and CheckTheVolatility

size = 120
np.random.seed(279)
Spot_Price = np.random.uniform(low=0, high=1, size=size)
Strike_Price = np.random.uniform(low=0, high=1, size=size)
TimeMaturity = np.random.uniform(low=0.04, high=2, size=size)
RiskFreeRate = np.random.uniform(low=0, high=0.2, size=size)
Volatility = np.random.uniform(low=0, high=0.35, size=size)

OptionPrices, NormalD1, NormalD2 = BlackScholes_Call_Price(Spot_Price, Strike_Price, TimeMaturity, RiskFreeRate, Volatility)

data = pd.DataFrame({
    'Spot-Price': Spot_Price,
    'Strike-Price': Strike_Price,
    'Risk-Free-Rate': RiskFreeRate,
    'Time-to-Maturity': TimeMaturity,
    'Volatility': Volatility,
    'Call-Option-Price': OptionPrices,


})

Is_the_data_correct =  Check_Gen_Data(data)

if Is_the_data_correct:
    print("The generated data is within the predefined ranges.")
else:
    print("The generated data is not within the predefined ranges.")

features = data[['Spot-Price', 'Strike-Price', 'Risk-Free-Rate', 'Time-to-Maturity', 'Volatility']]
Data_Target = data['Call-Option-Price']


scaler = MinMaxScaler()

ScaledFeatures = scaler.fit_transform(features)

XTrain, TestX, YTrain, TestY = train_test_split (ScaledFeatures, Data_Target, test_size=0.2, random_state=279)

XTrain_tensor = torch.tensor(XTrain, dtype=torch.float32)
YTrain_tensor = torch.tensor(YTrain.values, dtype=torch.float32).view(-1, 1)

TestX_tensor = torch.tensor(TestX, dtype=torch.float32)


Input_Param = XTrain_tensor.shape[1]
Output_param = 1




class BlackScholesNN(nn.Module):
    def __init__(self, Input_Param, Output_param):
        super(BlackScholesNN, self).__init__()
        self.L1 = nn.Linear(Input_Param, 150)
        self.RELU_1 = nn.ReLU()
        self.L2 = nn.Linear(150, 100)
        self.RELU_2 = nn.ReLU()
        self.L3 = nn.Linear(100, 80)
        self.RELU_3 = nn.ReLU()
        self.L4 = nn.Linear(80, 60)
        self.RELU_4 = nn.ReLU()
        self.L5 = nn.Linear(60, 40)
        self.RELU_5 = nn.ReLU()
        self.L6 = nn.Linear(40, 20)
        self.RELU_6 = nn.ReLU()
        self.L7 = nn.Linear(20, Output_param)

    def forward(self, x):
        x = self.L1(x)
        x = self.RELU_1(x)
        x = self.L2(x)
        x = self.RELU_2(x)
        x = self.L3(x)
        x = self.RELU_3(x)
        x = self.L4(x)
        x = self.RELU_4(x)
        x = self.L5(x)
        x = self.RELU_5(x)
        x = self.L6(x)
        x = self.RELU_6(x)
        x = self.L7(x)
        return x

model = BlackScholesNN(Input_Param, Output_param)


Number_of_DataPoints_new = 50
np.random.seed(279)

Spot_Prices_For_test = np.random.uniform(low=0, high=1, size=Number_of_DataPoints_new)
Strike_Prices_For_test = np.random.uniform(low=0, high=1, size=Number_of_DataPoints_new)
Risk_FreeRates_For_test = np.random.uniform(low=0, high=0.2, size=Number_of_DataPoints_new)
Time_Maturities__For_test = np.random.uniform(low=0.04, high=2, size=Number_of_DataPoints_new)
VolatilityRanges_For_test = np.random.uniform(low=0, high=0.35, size=Number_of_DataPoints_new)

New_OptionPrices, _, _ = BlackScholes_Call_Price(Spot_Prices_For_test, Strike_Prices_For_test, Time_Maturities__For_test, Risk_FreeRates_For_test, VolatilityRanges_For_test)
DataFrame_For_test= pd.DataFrame({
    'Spot-Price': Spot_Prices_For_test,
    'Strike-Price': Strike_Prices_For_test,
    'Risk-Free-Rate': Risk_FreeRates_For_test,
    'Time-to-Maturity': Time_Maturities__For_test,
    'Volatility': VolatilityRanges_For_test,
    'Call-Option-Price': New_OptionPrices
})

Is_the_data_correct_new = Check_Gen_Data(DataFrame_For_test)

if Is_the_data_correct_new:
    print("Generated new independent testing data is within specified ranges.")
else:
    print("Generated new independent testing data is not within specified ranges.")

features_new = DataFrame_For_test[['Spot-Price', 'Strike-Price', 'Risk-Free-Rate', 'Time-to-Maturity', 'Volatility']]
Data_Target_new = DataFrame_For_test['Call-Option-Price']

ScaledFeatures_new = scaler.transform(features_new)

TestX_tensor_new = torch.tensor(ScaledFeatures_new, dtype=torch.float32)

ErrorCriterion = nn.MSELoss()
optimizer = optim.Adam(model.parameters(), lr=0.001)

Epoch_Size = 2000

for Ep in range(Epoch_Size):
    Target_out = model(XTrain_tensor)
    loss = ErrorCriterion(Target_out, YTrain_tensor)

    optimizer.zero_grad()
    loss.backward()
    optimizer.step()

    if (Ep + 1) % 100 == 0:
        print(f'Epoch [{Ep+1}/{Epoch_Size}], Loss: {loss.item():.4f}')

with torch.no_grad():
    model.eval()
    test_predictions = model(TestX_tensor)



TestPredsRelu = torch.relu(test_predictions)

if torch.any(TestPredsRelu < 0):
    Random_Coeff = torch.rand_like(TestPredsRelu)
    Tailored_predictions = TestPredsRelu + Random_Coeff * (1 - TestPredsRelu)
else:
    Tailored_predictions = TestPredsRelu

Tailored_predictions_squeezed = Tailored_predictions.numpy().squeeze()

predictions_test = Tailored_predictions_squeezed.reshape(-1, 1)
AllNumpyTest = TestPredsRelu.numpy()

predictions_data_test = pd.DataFrame({
    'Neural Network Prediction': predictions_test.flatten()
})

features_new = DataFrame_For_test[['Spot-Price', 'Strike-Price', 'Risk-Free-Rate', 'Time-to-Maturity', 'Volatility']]
Data_Target_new = DataFrame_For_test['Call-Option-Price']

ScaledFeatures_new = scaler.transform(features_new)

TestX_tensor_new = torch.tensor(ScaledFeatures_new, dtype=torch.float32)
test_predictions_new = model(TestX_tensor_new)
test_predictions_newrelu = torch.relu(test_predictions_new)

if torch.any(test_predictions_newrelu < 0):
    Random_Coeff_new = torch.rand_like(test_predictions_newrelu)
    Tailored_predictions_new = test_predictions_newrelu + Random_Coeff_new * (1 - test_predictions_newrelu)
else:
    Tailored_predictions_new = test_predictions_newrelu

Tailored_predictions_squeezed_new = Tailored_predictions_new.detach().numpy().squeeze()

predictions_Test_New = Tailored_predictions_squeezed_new.reshape(-1, 1)
AllNumpyTest_New = Tailored_predictions_squeezed_new.reshape(-1, 1)


predictions_data_Test_New = pd.DataFrame({
    'Neural Network Prediction': predictions_Test_New.flatten()
})

def calculate_mape(actual, predicted):
  """Calculates the Mean Absolute Percentage Error (MAPE).

  Args:
    actual: A NumPy array or pandas Series of actual values.
    predicted: A NumPy array or pandas Series of predicted values.

  Returns:
    The MAPE as a float.
  """
  actual, predicted = np.array(actual), np.array(predicted)
  return np.mean(np.abs((actual - predicted) / actual)) * 100

Predictions_Data_Test_New = pd.concat([DataFrame_For_test, pd.DataFrame(AllNumpyTest_New, columns=['Neural Network Prediction'])], axis=1)

Predictions_Data_Test_New['Prediction-Difference'] = Predictions_Data_Test_New['Neural Network Prediction'] - Predictions_Data_Test_New['Call-Option-Price']

Average_Diff_Test = Predictions_Data_Test_New['Prediction-Difference'].mean()
Standard_Deviation_Test = Predictions_Data_Test_New['Prediction-Difference'].std()
MeanSquaredLoss = ((Predictions_Data_Test_New['Prediction-Difference'])**2).mean()


epsilon = 1e-8
actual = Predictions_Data_Test_New['Call-Option-Price'].values
predicted = Predictions_Data_Test_New['Neural Network Prediction'].values


denominator = np.where(actual == 0, epsilon, actual)
mape = np.mean(np.abs((actual - predicted) / denominator)) * 100

MAPE = mape
MAE = np.abs(Predictions_Data_Test_New['Prediction-Difference']).mean()


print(f'Average Difference on New Independent Test Set: {Average_Diff_Test:.4f}')
print(f'Standard Deviation on New Independent Test Set: {Standard_Deviation_Test:.4f}')
print(f'Mean Squared Error (MSE) on Testing Set: {MeanSquaredLoss:.4f}')
print(f'MAPE (Mean Absolute Percentage Error) on Testing Set: {MAPE:.4f}%')
print(f'MAE (Mean Absolute Error) on Testing Set: {MAE:.4f}')

Predictions_Data_Test_New['Average Difference'] = Average_Diff_Test
Predictions_Data_Test_New['Standard Deviation'] = Standard_Deviation_Test
Predictions_Data_Test_New['Mean Squared Error'] = MeanSquaredLoss
Predictions_Data_Test_New['MAPE'] = MAPE
Predictions_Data_Test_New['MAE'] = MAE




Predictions_Data_Test_New.to_csv('./test_for 50 data points_MeanSquaredLoss.csv', index=False)

plt.figure(figsize=(18, 10))
plt.plot(Predictions_Data_Test_New.index, Predictions_Data_Test_New['Call-Option-Price'], label='Actual Option Prices', marker='o', color='red')
plt.plot(Predictions_Data_Test_New.index, Predictions_Data_Test_New['Neural Network Prediction'], label='Neural Network Predictions', marker='x', color='purple')
plt.title('Actual call option price vs Neural Network Predictions - Line Plot on New Independent Test Data 50 data points 120 data point training set')
plt.xlabel('Data Points')
plt.ylabel('Option Prices')
plt.legend()
plt.savefig('./Line-plot_test_results_new_independent_data for 50 data points 120 data point training set .png')
plt.show()

plt.figure(figsize=(18, 10))
plt.hist(Predictions_Data_Test_New['Prediction-Difference'], bins=150, color='skyblue', edgecolor='black', density=True)
plt.title('Histogram of Prediction Differences on New Independent Test Data for 50 data points 120 data point training set')
plt.xlabel('Prediction-Difference')
plt.ylabel('Frequency (Density)')
plt.savefig('./histogram_test_results_new_independent_data for 50 data points 120 data point training set.png')
plt.show()

