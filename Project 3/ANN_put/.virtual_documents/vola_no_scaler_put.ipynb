
import pandas as pd
import numpy as np
import torch
import torch.nn as nn
import torch.optim as optim
import matplotlib.pyplot as plt
import random



Data_for_Put_options = pd.read_excel('train_gld_before_2016.xlsx', sheet_name='GLD_PUT')



seed = 42
torch.manual_seed(seed)
np.random.seed(seed)
random.seed(seed)

torch.backends.cudnn.deterministic = True
torch.backends.cudnn.benchmark = False
exp_dates_for_Put = Data_for_Put_options['Exp Date = T']
dates_for_Put = Data_for_Put_options['T - 5']
volas_for_Put_percent = Data_for_Put_options['21_Day_Percent_Volatility']
volas_for_Put_nominal = Data_for_Put_options['21_Day_Volatility']

Features_for_Put_options = Data_for_Put_options[['ETF Price on T - 5', 'Strike_1', 'Strike_2', 'Strike_3', 'Strike_4', 'Strike_5','21_Day_Percent_Volatility','21_Day_Volatility']].copy()

Close_prices_Put = Data_for_Put_options[['Close_1', 'Close_2', 'Close_3', 'Close_4', 'Close_5']]

Features_for_Put_options['ETF Price on T - 5'] = pd.to_numeric(Features_for_Put_options['ETF Price on T - 5'], errors='coerce')

Features_for_Put_options = Features_for_Put_options.dropna(subset=['ETF Price on T - 5'])

Close_prices_Put = Close_prices_Put.loc[Features_for_Put_options.index]

device = torch.device("cuda" if torch.cuda.is_available() else "cpu")
print(f"Using device: {device}")

Put_features_tensor = torch.tensor(Features_for_Put_options.values, dtype=torch.float32).to(device)
Put_target_tensor = torch.tensor(Close_prices_Put.values, dtype=torch.float32).to(device)

print("Features tensor shape:", Put_features_tensor.shape)
print("Target tensor shape:", Put_target_tensor.shape)

lr = 0.001



class MultiOutputOptionsPricingANN(nn.Module):
    def __init__(self, InPut_Param, OutPut_param=100):
        super(MultiOutputOptionsPricingANN, self).__init__()

        hidden_neurons = 1900  

        self.L1 = nn.Linear(InPut_Param, hidden_neurons)
        self.batch_norm1 = nn.BatchNorm1d(hidden_neurons)

        self.L2 = nn.Linear(hidden_neurons, hidden_neurons)
        self.batch_norm2 = nn.BatchNorm1d(hidden_neurons)

        self.L3 = nn.Linear(hidden_neurons, hidden_neurons)
        self.batch_norm3 = nn.BatchNorm1d(hidden_neurons)

        self.L4 = nn.Linear(hidden_neurons, hidden_neurons)
        self.batch_norm4 = nn.BatchNorm1d(hidden_neurons)

        self.L5 = nn.Linear(hidden_neurons, hidden_neurons)
        self.batch_norm5 = nn.BatchNorm1d(hidden_neurons)

        self.L6 = nn.Linear(hidden_neurons, hidden_neurons)
        self.batch_norm6 = nn.BatchNorm1d(hidden_neurons)

        self.L7 = nn.Linear(hidden_neurons, hidden_neurons)
        self.batch_norm7 = nn.BatchNorm1d(hidden_neurons)

        self.output_layer = n# Verify output shape
n.Linear(hidden_neurons, OutPut_param)

        self.relu = nn.ReLU()

    def forward(self, x):
        x = self.relu(self.batch_norm1(self.L1(x)))
        x = self.relu(self.batch_norm2(self.L2(x)))
        x = self.relu(self.batch_norm3(self.L3(x)))
        x = self.relu(self.batch_norm4(self.L4(x)))
        x = self.relu(self.batch_norm5(self.L5(x)))
        x = self.relu(self.batch_norm6(self.L6(x)))
        x = self.relu(self.batch_norm7(self.L7(x)))
        x = self.output_layer(x)  
        return x

input_features = Features_for_Put_options.shape[1]
output_strikes = Close_prices_Put.shape[1]
Model_Put_options = MultiOutputOptionsPricingANN(input_features, output_strikes).to(device)

sample_input = torch.randn(5, input_features).to(device) 
output = Model_Put_options(sample_input)
print("Model output shape:", output.shape) 

Put_options_Criteria = nn.MSELoss()  
Optimizer_for_Puts = optim.Adam(Model_Put_options.parameters(), lr=lr)

Num_Epochs = 2000
for Epoch in range(Num_Epochs):
    Model_Put_options.train()  
    Optimizer_for_Puts.zero_grad()
    
    Target_out_Put = Model_Put_options(Put_features_tensor)
    
    Loss_for_Put_options = Put_options_Criteria(Target_out_Put, Put_target_tensor)
    
    Loss_for_Put_options.backward()
    Optimizer_for_Puts.step()

    if (Epoch + 1) % 100 == 0:
        print(f'Epoch [{Epoch+1}/{Num_Epochs}], Loss (Put): {Loss_for_Put_options.item():.4f}')

with torch.no_grad():
    Model_Put_options.eval()
    train_predictions_Put = Model_Put_options(Put_features_tensor).cpu().numpy()  

torch.save(Model_Put_options.state_dict(), "./training_results/Put_option_model_without_vola_multiple_strikes 2000.pth")


def Metrics(actual, predicted):
    MSE = np.mean((actual - predicted) ** 2, axis=0) 
    MAE = np.mean(np.abs(actual - predicted), axis=0) 
    MAPE = np.mean(np.abs((actual - predicted) / actual), axis=0) * 100  
    return MSE, MAE, MAPE

MSE_Put, MAE_Put, MAPE_Put = Metrics(Close_prices_Put.values, train_predictions_Put)  
for i in range(len(MSE_Put)):
    print(f'Put Options Price {i+1}- Strike {i+1}: MSE (Training): {MSE_Put[i]:.4f}, MAE (Training): {MAE_Put[i]:.4f}, MAPE (Training): {MAPE_Put[i]:.4f}%')



Res_Put_options = pd.DataFrame({
    'Exp Date = T': exp_dates_for_Put,
    'T - 5': dates_for_Put,
    '21_Day_Percent_Volatility': volas_for_Put_percent,
    '21_Day_Volatility': volas_for_Put_nominal,
    'ETF Price on T - 5': Features_for_Put_options['ETF Price on T - 5'].values,
    
    'Strike_1': Features_for_Put_options['Strike_1'].values,
    'Close_1': Data_for_Put_options['Close_1'].values, 
    'Predicted Price_1': train_predictions_Put[:, 0],  
    
    'Strike_2': Features_for_Put_options['Strike_2'].values,
    'Close_2': Data_for_Put_options['Close_2'].values,
    'Predicted Price_2': train_predictions_Put[:, 1],
    
    'Strike_3': Features_for_Put_options['Strike_3'].values,
    'Close_3': Data_for_Put_options['Close_3'].values,
    'Predicted Price_3': train_predictions_Put[:, 2],
    
    'Strike_4': Features_for_Put_options['Strike_4'].values,
    'Close_4': Data_for_Put_options['Close_4'].values,
    'Predicted Price_4': train_predictions_Put[:, 3],
    
    'Strike_5': Features_for_Put_options['Strike_5'].values,
    'Close_5': Data_for_Put_options['Close_5'].values,
    'Predicted Price_5': train_predictions_Put[:, 4],
    
})
pd.set_option('display.float_format', '{:.10f}'.format)

for i in range(1, 6):
    Res_Put_options[f'Price Prediction Difference_{i}'] = Res_Put_options[f'Predicted Price_{i}'] - Res_Put_options[f'Close_{i}']
    
    Res_Put_options[f'Price Prediction Difference in percentage_{i}'] = (
        Res_Put_options[f'Price Prediction Difference_{i}'] / Res_Put_options[f'Close_{i}'] * 100
    )

Res_Put_options['Average Price Prediction Difference'] = Res_Put_options[
    [f'Price Prediction Difference_{i}' for i in range(1, 6)]
].mean(axis=1)

Res_Put_options['Average Price Prediction Difference in percentage'] = Res_Put_options[
    [f'Price Prediction Difference in percentage_{i}' for i in range(1, 6)]
].mean(axis=1)

Res_Put_options['Overall Average Price Prediction Difference'] = Res_Put_options[
    [f'Price Prediction Difference_{i}' for i in range(1, 6)]
].mean(axis=1)

Res_Put_options['Overall Average Price Prediction Difference in percentage'] = Res_Put_options[
    [f'Price Prediction Difference in percentage_{i}' for i in range(1, 6)]
].mean(axis=1)

for i in range(1, 6):   
    Res_Put_options[f'MSE_Put_{i}'] = MSE_Put[i - 1]  
    Res_Put_options[f'MAE_Put_{i}'] = MAE_Put[i - 1]  
    Res_Put_options[f'MAPE_Put_{i}'] = MAPE_Put[i - 1]  

MSE_Put = ((Res_Put_options[[f'Close_{i}' for i in range(1, 6)]].values - 
              Res_Put_options[[f'Predicted Price_{i}' for i in range(1, 6)]].values) ** 2).mean().mean()
MAE_Put = (abs(Res_Put_options[[f'Close_{i}' for i in range(1, 6)]].values - 
             Res_Put_options[[f'Predicted Price_{i}' for i in range(1, 6)]].values)).mean().mean()
MAPE_Put = (100 * abs((Res_Put_options[[f'Close_{i}' for i in range(1, 6)]].values - 
               Res_Put_options[[f'Predicted Price_{i}' for i in range(1, 6)]].values) / 
               Res_Put_options[[f'Close_{i}' for i in range(1, 6)]].values)).mean().mean()

Res_Put_options['MSE'] = [MSE_Put] * len(Res_Put_options)  
Res_Put_options['MAE'] = [MAE_Put] * len(Res_Put_options)  
Res_Put_options['MAPE'] = [MAPE_Put] * len(Res_Put_options)  


print(Res_Put_options.head())
print(f'MSE: {MSE_Put}, MAE: {MAE_Put}, MAPE: {MAPE_Put}')

MSE_Put, MAE_Put, MAPE_Put = Metrics(Close_prices_Put.values, train_predictions_Put)

Res_Put_options['Learning rate'] = lr
Res_Put_options['Epoch size'] = Num_Epochs
Res_Put_options['Random seed'] = seed


for i in range(len(MSE_Put)):
    print(f'Put Options Price_{i+1} - Strike_{i+1}: MSE (Training): {MSE_Put[i]:.4f}, MAE (Training): {MAE_Put[i]:.4f}, MAPE (Training): {MAPE_Put[i]:.4f}%')


    

print(Res_Put_options.head())





with pd.ExcelWriter('./training_results/GLD_training_Adam_ANN_without_multiple_strikes_without_volatility_input_Puts2000.xlsx') as writer:
    Res_Put_options.to_excel(writer, sheet_name='Put_Options', index=False)






import pandas as pd
import numpy as np
import torch

testing_Data_for_Put_options = pd.read_excel('test_gld_after_2016.xlsx', sheet_name='GLD_PUT')
test_volas_for_Put_percent = testing_Data_for_Put_options['21_Day_Percent_Volatility']
test_volas_for_Put_nominal = testing_Data_for_Put_options['21_Day_Volatility']

testing_Data_for_Put_options.columns = testing_Data_for_Put_options.columns.str.strip()

testing_Features_for_Put_options = testing_Data_for_Put_options[['ETF Price on T - 5', 'Strike_1', 'Strike_2', 'Strike_3', 'Strike_4', 'Strike_5','21_Day_Percent_Volatility','21_Day_Volatility']].copy()
testing_Data_Target_Put = testing_Data_for_Put_options[['Close_1', 'Close_2', 'Close_3', 'Close_4', 'Close_5']]

testing_Features_for_Put_options['ETF Price on T - 5'] = pd.to_numeric(testing_Features_for_Put_options['ETF Price on T - 5'], errors='coerce')

testing_Features_for_Put_options = testing_Features_for_Put_options.dropna(subset=['ETF Price on T - 5'])

test_Close_prices_Put = testing_Data_Target_Put.loc[testing_Features_for_Put_options.index]

test_dates_for_Put = testing_Data_for_Put_options['T - 5']
exp_dates_for_Put_test = testing_Data_for_Put_options['Exp Date = T']

testing_Data_for_Put_options = testing_Data_for_Put_options.drop(columns=['Exp Date = T'])



device = torch.device("cuda" if torch.cuda.is_available() else "cpu")
print(f"Using device: {device}")

Put_features_tensor_test = torch.tensor(testing_Features_for_Put_options.values, dtype=torch.float32).to(device)
Put_target_tensor_test = torch.tensor(testing_Data_Target_Put.values, dtype=torch.float32).to(device)

model_Put_loaded = MultiOutputOptionsPricingANN(input_features, output_strikes).to(device)
model_Put_loaded.load_state_dict(torch.load('./training_results/Put_option_model_without_vola_multiple_strikes 2000.pth'))
model_Put_loaded.eval()  

with torch.no_grad(): 
    test_predictions_Put = model_Put_loaded(Put_features_tensor_test)

test_predictions_Put = test_predictions_Put.cpu().numpy()

assert Put_target_tensor_test.shape == test_predictions_Put.shape, "Shape mismatch between actual and predicted prices."


def Metrics(actual, predicted):
    MSE_test_Put = np.mean((actual - predicted) ** 2, axis=0) 
    MAE_test_Put = np.mean(np.abs(actual - predicted), axis=0)  
    MAPE_test_Put = np.mean(np.abs((actual - predicted) / (actual + 1e-8)), axis=0) * 100  
    
    return MSE_test_Put, MAE_test_Put, MAPE_test_Put

MSE_test_Put, MAE_test_Put, MAPE_test_Put = Metrics(test_Close_prices_Put.values, test_predictions_Put)

for i in range(len(MSE_test_Put)):
    print(f'Put Options Price_{i+1} - Strike_{i+1}: MSE (testing): {MSE_test_Put[i]:.4f}, MAE (testing): {MAE_test_Put[i]:.4f}, MAPE (testing): {MAPE_test_Put[i]:.2f}%')

Test_Put_options = pd.DataFrame({
    'Exp Date = T': exp_dates_for_Put_test,
    'T - 5': test_dates_for_Put,
    '21_Day_Percent_Volatility': test_volas_for_Put_percent,
    '21_Day_Volatility': test_volas_for_Put_nominal,
    'ETF Price on T - 5': testing_Features_for_Put_options['ETF Price on T - 5'].values,
})

for i in range(1, 6):  
    Test_Put_options[f'Strike_{i}'] = testing_Features_for_Put_options[f'Strike_{i}'].values
    Test_Put_options[f'Close_{i}'] = testing_Data_Target_Put[f'Close_{i}'].values  
    Test_Put_options[f'Predicted Price_{i}'] = test_predictions_Put[:, i - 1]  

for i in range(1, 6):
    Test_Put_options[f'Price Prediction Difference_{i}'] = Test_Put_options[f'Predicted Price_{i}'] - Test_Put_options[f'Close_{i}']
    
    Test_Put_options[f'Price Prediction Difference in percentage_{i}'] = (
        Test_Put_options[f'Price Prediction Difference_{i}'] / Test_Put_options[f'Close_{i}'].replace(0, np.nan) * 100
    )

Test_Put_options['Average Price Prediction Difference'] = Test_Put_options[
    [f'Price Prediction Difference_{i}' for i in range(1, 6)]
].mean(axis=1)

Test_Put_options['Average Price Prediction Difference in percentage'] = Test_Put_options[
    [f'Price Prediction Difference in percentage_{i}' for i in range(1, 6)]
].mean(axis=1)

Test_Put_options['Overall Average Price Prediction Difference'] = Test_Put_options[
    [f'Price Prediction Difference_{i}' for i in range(1, 6)]
].mean(axis=1)

Test_Put_options['Overall Average Price Prediction Difference in percentage'] = Test_Put_options[
    [f'Price Prediction Difference in percentage_{i}' for i in range(1, 6)]
].mean(axis=1)

metrics_df = pd.DataFrame({
    'Strike': [f'Strike_{i+1} Close_{i+1}' for i in range(len(MSE_test_Put))],
    'MSE_test_Put_close': MSE_test_Put,
    'MAE_test_Put_close': MAE_test_Put,
    'MAPE_test_Put_Close': MAPE_test_Put,
})

Test_Put_options['MSE'] = np.mean(MSE_test_Put) 
Test_Put_options['MAE'] = np.mean(MAE_test_Put)  
Test_Put_options['MAPE'] = np.mean(MAPE_test_Put)  
Res_Put_options['Learning rate'] = lr
Res_Put_options['Epoch size'] = Num_Epochs
Res_Put_options['Random seed'] = seed

print(Test_Put_options.head())
print(f'MSE: {np.mean(MSE_test_Put):.4f}, MAE: {np.mean(MAE_test_Put):.4f}, MAPE: {np.mean(MAPE_test_Put):.2f}%')



Test_Put_options = pd.concat([Test_Put_options, metrics_df], axis=1)

with pd.ExcelWriter('./testing_results/GLD_testing_results_without_ANN_Adam_multiple_strikes_Testing_without_volatility input_input_Puts2000.xlsx') as writer:
    Test_Put_options.to_excel(writer, sheet_name='Put_Options', index=False)

print(Test_Put_options.head())






strikes = [1, 2, 3, 4, 5]  

for strike in strikes:
    plt.figure(figsize=(12, 6))
    
    plt.plot(range(len(Res_Put_options)), Res_Put_options[f'Close_{strike}'], 
             label=f'Actual Close Price Close_{strike} (Strike_{strike})', color='blue', marker='o', linestyle='-')
    
    plt.plot(range(len(Res_Put_options)), Res_Put_options[f'Predicted Price_{strike}'], 
             label=f'Predicted Close Price Close_{strike} (Strike_{strike})', color='red', marker='x', linestyle='--')
    
    plt.xlabel('Day')
    plt.ylabel('Close Price in USD$')
    plt.title(f'Actual vs Predicted Close Prices ANN 8 layers 14100 Neurons for Put Options GLD ETF Training Close_{strike} with volatility input ', fontsize=10)
    plt.legend()
    plt.grid(True)
    plt.tight_layout()
    
    plt.savefig(f'./training_results/Actual_vs_Predicted_ANN 8 Layers 14100 Neurons_Close_Prices_Close_{strike}Strike_Training{strike} with volatility input.pdf')
    plt.show()


for strike in strikes:
    plt.figure(figsize=(14, 6))
    plt.scatter(Res_Put_options.index, Res_Put_options[f'Price Prediction Difference_{strike}'], color='purple', alpha=0.5)
    plt.axhline(0, color='red', linestyle='--', linewidth=1)
    plt.xlabel('Day')
    plt.ylabel(f'Price Prediction Difference (Strike_{strike}) in USD$')
    plt.title(f'Residuals for Put Option Close Prices ANN 8 layers 14100 Neurons GLD ETF Training dataset Close_{strike} with volatility input', fontsize=12)
    plt.grid(True)
    plt.tight_layout()
    
    plt.savefig(f'./training_results/Residuals_Put_Options_ANN 8 Layers 14100 Neurons_Strike_Training{strike}_Close_{strike}with volatility input.pdf')
    plt.show()

plt.figure(figsize=(10, 6))
for strike in strikes:
    plt.scatter(Res_Put_options[f'Close_{strike}'], Res_Put_options[f'Predicted Price_{strike}'], 
                label=f'Strike_{strike} Close_{strike}', alpha=0.5)

min_price = Res_Put_options[[f'Close_{s}' for s in strikes]].min().min()
max_price = Res_Put_options[[f'Close_{s}' for s in strikes]].max().max()
plt.plot([min_price, max_price], [min_price, max_price], color='red', linewidth=2, linestyle='--', label='Perfect Prediction Line')

plt.xlabel('Actual Close Price in USD$')
plt.ylabel('Predicted Close Price in USD$')
plt.title('Actual vs Predicted Close Prices for Put Options in USD$ GLD ETF ANN 8 layers 14100 Neurons Training dataset with volatility input', fontsize=10)
plt.legend()
plt.grid(True)

plt.savefig('./training_results/Actual_vs_Predicted_Close_Prices_ANN_8 Layers 14100 Neurons Scatter_Training_with volatility input.pdf')
plt.show()

plt.figure(figsize=(12, 6))

for strike in strikes:
    plt.figure(figsize=(10, 6))  
    plt.plot(dates_for_Put, Res_Put_options[f'Close_{strike}'], 
             label=f'Actual Close Price Strike_{strike}', marker='o', color='blue')
    plt.plot(dates_for_Put, Res_Put_options[f'Predicted Price_{strike}'], 
             label=f'Predicted Close Price Strike_{strike}', linestyle='--', marker='x', color='red')

    plt.xlabel('T - 5 Time years')
    plt.ylabel('Close Price in USD$')
    plt.title(f'Actual vs. Predicted Close prices GLD ETF ANN 8 layers 14100 Neurons Over Time for Put Options Training dataset Close_{strike} with volatility input', fontsize=10)
    plt.xticks(rotation=45)  
    plt.legend()
    plt.grid(True)
    plt.tight_layout()

    plt.savefig(f'./training_results/Actual_vs_Predicted_Close_{strike}_8 Layers 14100 Neurons ANN_Over_Time_Strike_Training{strike}_with volatility input.pdf')
    plt.show()
    
plt.figure(figsize=(14, 10))

plt.subplot(2, 1, 1)
plt.plot(Res_Put_options['T - 5'], Res_Put_options['Overall Average Price Prediction Difference'], 
         marker='o', linestyle='-', color='blue')
plt.xlabel('T - 5 Time years')
plt.ylabel('Average Price Prediction Difference in USD$')
plt.title('Overall Average Price Prediction Difference 8 layers 14100 Neurons ANN GLD for GLD ETF Put Options Training dataset with volatility input', fontsize=10)
plt.grid(True)

plt.subplot(2, 1, 2)
plt.plot(Res_Put_options['T - 5'], Res_Put_options['Overall Average Price Prediction Difference in percentage'], 
         marker='o', linestyle='-', color='orange')
plt.xlabel('T - 5 Time years')
plt.ylabel('Average Price Prediction Difference in Percentage (%)')
plt.title('Overall Average Price Prediction Difference in Percentage 8 layers 14100 Neurons ANN for GLD ETF Put Options Training dataset with volatility input', fontsize=10)
plt.grid(True)

plt.tight_layout()

plt.savefig('./training_results/Average_Price_Prediction_Differences_Training_with volatility input_ANN_8 Layers 14100 Neurons.pdf')

plt.show()

for strike in strikes:
    plt.plot(dates_for_Put, Res_Put_options[f'Close_{strike}'], 
             label=f'Actual Close Price Strike {strike}', marker='o')
    plt.plot(dates_for_Put, Res_Put_options[f'Predicted Price_{strike}'], 
             label=f'Predicted Close Price Close_{strike} Strike_{strike}', linestyle='--', marker='x')

plt.xlabel('T - 5 Time years')
plt.ylabel('Close Price in USD$')
plt.title('Actual vs. Predicted Close Prices Over Time for GLD ETF Put Options 8 layers 14100 Neurons ANN Training dataset with volatility input', fontsize=10)
plt.xticks(rotation=45)  
plt.legend()
plt.grid(True)
plt.tight_layout()

plt.savefig('./training_results/Actual_vs_Predicted_Close_Prices_Over_Time_8 Layers 14100 Neurons_ANN_Training_with_volatility input.pdf')
plt.show()

Res_Put_options['Overall Price Prediction Difference'] = Res_Put_options[
    [f'Price Prediction Difference_{i}' for i in range(1, 6)]
].mean(axis=1)

for strike in strikes:
    plt.figure(figsize=(12, 6))
    plt.hist(Res_Put_options[f'Price Prediction Difference_{strike}'], bins=30, color='green', alpha=0.7)
    plt.xlabel(f'Close_{strike} Price Prediction Difference in USD$ (Strike_{strike}) ')
    plt.ylabel('Frequency')
    plt.title(f'Histogram of Close Price Prediction Differences in USD$ Close_{strike} for GLD ETF Put Options 8 layers 14100 Neurons ANN Training dataset with volatility input', fontsize=10)
    plt.grid(True)
    plt.tight_layout()
    
    plt.savefig(f'./training_results/Prediction_Differences_Histogram_Put_Options_Close_{strike}_Strike_Training{strike}_with_volatility input_8 Layers 14100 Neurons.pdf')
    plt.show()

plt.figure(figsize=(12, 6))
plt.hist(Res_Put_options['Overall Price Prediction Difference'], bins=30, color='blue', alpha=0.7)
plt.xlabel('Overall Price Prediction Difference in USD$')
plt.ylabel('Frequency')
plt.title('Histogram of Overall Prediction Differences in USD$ for GLD ETF Put Options 8 layers 14100 Neurons ANN Training dataset with volatility input', fontsize=10)
plt.grid(True)
plt.tight_layout()

plt.savefig('./training_results/Prediction_Differences_Histogram_Put_Options_Overall_8 Layers 14100 Neurons_ANN_Training_with_volatility input.pdf')
plt.show()

Res_Put_options['Overall Price Prediction Difference in percentage'] = Res_Put_options[
    [f'Price Prediction Difference in percentage_{i}' for i in range(1, 6)]
].mean(axis=1)

plt.figure(figsize=(12, 6))
plt.hist(Res_Put_options['Overall Price Prediction Difference in percentage'], bins=30, color='blue', alpha=0.7)
plt.xlabel('Overall Price Prediction Difference in %')
plt.ylabel('Frequency')
plt.title('Histogram of Overall Prediction Differences in percentage for GLD ETF Put Options 8 layers 14100 Neurons ANN Training dataset with volatility input', fontsize=10)
plt.grid(True)
plt.tight_layout()

plt.savefig('./training_results/Prediction_Differences_in_percentage_Histogram_Put_Options_Overall_8 Layers 14100 Neurons_ANN_Training_without_volatility input.pdf')
plt.show()






strikes_test = [1, 2, 3, 4, 5]  
for strike in strikes_test:
    plt.figure(figsize=(12, 6))
    
    plt.plot(range(len(Test_Put_options)), Test_Put_options[f'Close_{strike}'], 
             label=f'Actual Close Price_{strike}(Strike_{strike})', color='blue', marker='o', linestyle='-')
    
    plt.plot(range(len(Test_Put_options)), Test_Put_options[f'Predicted Price_{strike}'], 
             label=f'Predicted Close Price_{strike} (Strike_{strike})', color='red', marker='x', linestyle='--')
    
    plt.xlabel('Day')
    plt.ylabel('Close Price in USD$')
    plt.title(f'Actual vs Predicted Close Prices for GLD ETF Put Options ANN 8 layers 14100 Neurons Testing dataset Close_{strike} with volatility input input', fontsize=10)
    plt.legend()
    plt.grid(True)
    plt.tight_layout()
    
    plt.savefig(f'./testing_results/Actual_vs_Predicted_Close_Prices_Close_{strike}_Testing ANN with volatility input input 8 layers 14100 Neurons.pdf')
    plt.show()

for strike in strikes_test:
    plt.figure(figsize=(12, 6))
    plt.hist(Test_Put_options[f'Price Prediction Difference_{strike}'], bins=30, color='green', alpha=0.7)
    plt.xlabel(f'Price Prediction Difference in USD$ (Strike_{strike}) Close price_{strike}')
    plt.ylabel('Frequency')
    plt.title(f'Histogram of Prediction Differences in USD$ for GLD ETF Put Options 8 layers 14100 Neurons ANN Testing dataset Close_{strike} with volatility input input', fontsize=10)
    plt.grid(True)
    plt.tight_layout()
    
    plt.savefig(f'./testing_results/Prediction_Differences_Histogram_Put_Options_ANN_Testing_Close_{strike} with volatility input input.pdf')
    plt.show()

for strike in strikes_test:
    plt.figure(figsize=(14, 6))
    plt.scatter(Test_Put_options.index, Test_Put_options[f'Price Prediction Difference_{strike}'], color='purple', alpha=0.5)
    plt.axhline(0, color='red', linestyle='--', linewidth=1)
    plt.xlabel('Day')
    plt.ylabel(f'Price Prediction Difference in USD$ Close Price_{strike} in USD$')
    plt.title(f'Residuals for GLD ETF Put Option Close Prices Testing dataset Close_{strike} 8 layers 14100 Neurons ANN with volatility input input', fontsize=10)
    plt.grid(True)
    plt.tight_layout()
    
    plt.savefig(f'./testing_results/Residuals_Put_Options_Strike{strike}_Testing_Close_{strike}_ANN_with volatility input input.pdf')
    plt.show()

plt.figure(figsize=(10, 6))
for strike in strikes_test:
    plt.scatter(Test_Put_options[f'Close_{strike}'], Test_Put_options[f'Predicted Price_{strike}'], 
                label=f'Strike_{strike} Close_{strike}', alpha=0.5)

min_price = Test_Put_options[[f'Close_{s}' for s in strikes_test]].min().min()
max_price = Test_Put_options[[f'Close_{s}' for s in strikes_test]].max().max()
plt.plot([min_price, max_price], [min_price, max_price], color='red', linewidth=2, linestyle='--', label='Perfect Prediction Line')

plt.xlabel('Actual Close Price in USD$')
plt.ylabel('Predicted Close Price in USD$')
plt.title('Actual vs Predicted Close Prices for GLD ETF Put Options in USD$ 8 layers 14100 Neurons ANN Testing dataset with volatility input input', fontsize=10)
plt.legend()
plt.grid(True)

plt.savefig('./testing_results/Actual_vs_Predicted_Close_Prices_Scatter_ANN_Testing_with volatility input input.pdf')
plt.show()

plt.figure(figsize=(12, 6))

for strike in strikes_test:
    plt.figure(figsize=(10, 6))  
    plt.plot(test_dates_for_Put, Test_Put_options[f'Close_{strike}'], 
             label=f'Actual Close Price Strike_{strike}', marker='o', color='blue')
    plt.plot(test_dates_for_Put, Test_Put_options[f'Predicted Price_{strike}'], 
             label=f'Predicted Close Price Strike_{strike}', linestyle='--', marker='x', color='red')

    plt.xlabel('T - 5 Time years')
    plt.ylabel('Close Price in USD$')
    plt.title(f'Actual vs. Predicted Close Prices Over Time for  GLD ETF Put Options 8 layers 14100 Neurons ANN Testing dataset Close_{strike} with volatility input input', fontsize=10)
    plt.xticks(rotation=45)  
    plt.legend()
    plt.grid(True)
    plt.tight_layout()

    plt.savefig(f'./testing_results/Actual_vs_Predicted_Close_Prices_Over_Time_Strike_8 Layers 14100 Neurons ANN_Testing_{strike}_with volatility input input.pdf')
    plt.show()
    
plt.figure(figsize=(14, 10))

plt.subplot(2, 1, 1)
plt.plot(Test_Put_options['T - 5'], Test_Put_options['Overall Average Price Prediction Difference'], 
         marker='o', linestyle='-', color='blue')
plt.xlabel('T - 5 Time years')
plt.ylabel('Average Price Prediction Difference in USD$')
plt.title('Overall Average Price Prediction Difference for Put Options 8 layers 14100 Neurons ANN Testing dataset with volatility input input', fontsize=14)
plt.grid(True)

plt.subplot(2, 1, 2)
plt.plot(Test_Put_options['T - 5'], Test_Put_options['Overall Average Price Prediction Difference in percentage'], 
         marker='o', linestyle='-', color='orange')
plt.xlabel('T - 5 Time in years')
plt.ylabel('Average Price Prediction Difference in Percentage (%)')
plt.title('Overall Average Price Prediction Difference in Percentage for GLD ETF Put Options 8 layers 14100 Neurons ANN Testing dataset with volatility input input', fontsize=14)
plt.grid(True)

plt.tight_layout()

plt.savefig('./testing_results/Average_Price_Prediction_Differences_ 8 layers 14100 Neurons ANN_Testing_with volatility input input.pdf')

plt.show()

Test_Put_options['Overall Price Prediction Difference'] = Test_Put_options[
    [f'Price Prediction Difference_{i}' for i in range(1, 6)]
].mean(axis=1)



plt.figure(figsize=(12, 6))
plt.hist(Test_Put_options['Overall Price Prediction Difference'], bins=30, color='blue', alpha=0.7)
plt.xlabel('Overall Price Prediction Difference in USD$')
plt.ylabel('Frequency')
plt.title('Histogram of Overall Prediction Differences in USD$ for GLD ETF Put Options 8 layers 14100 Neurons ANN Testing dataset with volatility input input', fontsize=10)
plt.grid(True)
plt.tight_layout()

plt.savefig('./testing_results/Prediction_Differences_Histogram_Put_Options_Overall_8 Layers 14100 Neurons ANN_Testing_without_volatility input.pdf')
plt.show()




Res_Put_options['Overall Price Prediction Difference in percentage'] = Res_Put_options[
    [f'Price Prediction Difference_{i}' for i in range(1, 6)]
].mean(axis=1)

plt.figure(figsize=(12, 6))
plt.hist(Res_Put_options['Overall Price Prediction Difference in percentage'], bins=30, color='blue', alpha=0.7)
plt.xlabel('Overall Price Prediction Difference %')
plt.ylabel('Frequency')
plt.title('Histogram of Overall Prediction Differences in percentage for GLD ETF Put Options 8 layers 14100 Neurons ANN Testing dataset with volatility input input', fontsize=10)
plt.grid(True)
plt.tight_layout()

plt.savefig('./training_results/Prediction_Differences_Histogram_Put_in_percentage_Options_Overall_ANN_Testing_without_volatility input.pdf')
plt.show()
