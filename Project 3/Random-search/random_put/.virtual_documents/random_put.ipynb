


pip install openpyxl parameter


import pandas as pd
import numpy as np
import torch
import torch.nn as nn
import torch.optim as optim
import matplotlib.pyplot as plt
import itertools
from tqdm import tqdm
from torch.optim.lr_scheduler import ReduceLROnPlateau
from sklearn.model_selection import ParameterGrid
from sklearn.metrics import mean_squared_error
from torch.utils.data import TensorDataset, DataLoader
import random
from torch.cuda.amp import autocast, GradScaler
from itertools import product


Data_for_Put_options = pd.read_excel('train_gld_before_2016.xlsx', sheet_name='GLD_PUT')

batch_size = 2048

exp_dates_for_Put = Data_for_Put_options['Exp Date = T']
dates_for_Put = Data_for_Put_options['T - 5']
volas_for_Put_percent = Data_for_Put_options['21_Day_Percent_Volatility']
volas_for_Put_nominal = Data_for_Put_options['21_Day_Volatility']

dates_for_Put = Data_for_Put_options['T - 5']
Data_for_Put_options = Data_for_Put_options.drop(columns=['T - 5', 'Exp Date = T'])

Features_for_Put_options = Data_for_Put_options[['ETF Price on T - 5', 'Strike_1', 'Strike_2', 'Strike_3', 'Strike_4', 'Strike_5','21_Day_Percent_Volatility', '21_Day_Volatility']]
Data_Target_Put = Data_for_Put_options[['Close_1', 'Close_2', 'Close_3', 'Close_4', 'Close_5']]
Close_prices_Put = Data_for_Put_options[['Close_1', 'Close_2', 'Close_3', 'Close_4', 'Close_5']]

Features_for_Put_options['ETF Price on T - 5'] = pd.to_numeric(Features_for_Put_options['ETF Price on T - 5'], errors='coerce')
Features_for_Put_options = Features_for_Put_options.dropna(subset=['ETF Price on T - 5'])
Close_prices_Put = Close_prices_Put.loc[Features_for_Put_options.index]

seed = 42
torch.manual_seed(seed)
np.random.seed(seed)
random.seed(seed)
device = torch.device("cuda:0" if torch.cuda.is_available() else "cpu")

import random
import torch
import torch.nn as nn
import torch.optim as optim
from torch.cuda.amp import autocast, GradScaler
from torch.utils.data import DataLoader, TensorDataset
import numpy as np

class MultiOutputOptionsPricingANN(nn.Module):
    def __init__(self, input_dim, output_dim, neurons_per_layer):
        super(MultiOutputOptionsPricingANN, self).__init__()
        layers = [nn.Linear(input_dim, neurons_per_layer[0]), nn.BatchNorm1d(neurons_per_layer[0]), nn.ReLU()]
        for i in range(1, len(neurons_per_layer)):
            layers += [nn.Linear(neurons_per_layer[i-1], neurons_per_layer[i]), nn.BatchNorm1d(neurons_per_layer[i]), nn.ReLU()]
        layers.append(nn.Linear(neurons_per_layer[-1], output_dim))
        self.network = nn.Sequential(*layers)

    def forward(self, x):
        return self.network(x)

neuron_options = [50, 150, 500, 800, 1000, 1250, 1500, 3500,6000, 7000]
Learning_Rates = [0.00001,0.0001,0.001,0.01,0.1]

num_trials = 50

Features_for_Put_tensor = torch.tensor(Features_for_Put_options.values, dtype=torch.float32).to(device)
Data_Target_Put_tensor = torch.tensor(Data_Target_Put.values, dtype=torch.float32).to(device)
Put_dataset = TensorDataset(Features_for_Put_tensor, Data_Target_Put_tensor)
Put_loader = DataLoader(Put_dataset, batch_size=2048, shuffle=True)

best_val_loss = float('inf')
best_config = None
best_model_state = None
best_epoch_Put = None
Best_Learning_rate_Put = None



for trial in range(num_trials):
    lr = random.choice(Learning_Rates)

    neurons = [random.choice(neuron_options) for _ in range(8)]

    model = MultiOutputOptionsPricingANN(Features_for_Put_tensor.shape[1], 5, neurons).to(device)
    optimizer = optim.SGD(model.parameters(), lr=lr)
    criterion = nn.MSELoss()
    scaler = torch.amp.GradScaler('cuda')

    patience = 50
    max_epochs = 2000
    epochs_no_improve = 0
    best_loss_current = float('inf')

    for epoch in range(max_epochs):
        model.train()
        for features_batch, targets_batch in Put_loader:
            optimizer.zero_grad()
            with torch.amp.autocast('cuda'):  # Enable mixed precision
                predictions = model(features_batch.to(device))
                loss = criterion(predictions, targets_batch.to(device))
            scaler.scale(loss).backward()
            scaler.step(optimizer)
            scaler.update()

        model.eval()
        with torch.no_grad():
            val_predictions = model(Features_for_Put_tensor).cpu().numpy()
            val_loss = np.mean((val_predictions - Data_Target_Put_tensor.cpu().numpy()) ** 2)

        if val_loss < best_loss_current:
            best_loss_current = val_loss
            epochs_no_improve = 0
            if val_loss < best_val_loss:
                best_val_loss = val_loss
                best_config = (lr, neurons)
                best_epoch_Put = epoch + 1
                Best_Learning_rate_Put = lr
                best_model_state = model.state_dict()  # Save model state
        else:
            epochs_no_improve += 1

        if epochs_no_improve >= patience:
            print(f"Early stopping at epoch {epoch+1} for trial {trial+1} with neurons {neurons}, val loss {val_loss:.6f}")
            break

    print(f"Trial {trial+1}/{num_trials}: LR={lr}, Neurons={neurons}, Best Loss {best_loss_current:.6f}")
    torch.cuda.reset_peak_memory_stats()  

if best_model_state:
    best_model = MultiOutputOptionsPricingANN(Features_for_Put_tensor.shape[1], 5, best_config[1]).to(device)
    best_model.load_state_dict(best_model_state)
    torch.save(best_model_state, './training_results/best_random_search_model.pth')
    print(f"Best model saved with config {best_config}, Best Validation Loss={best_val_loss:.6f}")

    best_model.eval()
    with torch.no_grad():
        train_predictions_Put = best_model(Features_for_Put_tensor).cpu().numpy()

    print(f"Final training predictions: {train_predictions_Put[:5]}")  


    def calculate_overall_metrics(true_values, predicted_values):
        mse = mean_squared_error(true_values, predicted_values)
        mae = np.mean(np.abs(true_values - predicted_values))
        mape = np.mean(np.abs((true_values - predicted_values) / true_values)) * 100
        return mse, mae, mape

    overall_mse, overall_mae, overall_mape = calculate_overall_metrics(Close_prices_Put.values, train_predictions_Put)

    prediction_differences = {
        f'Strike_{i} Diff': Data_for_Put_options[f'Close_{i}'].values - train_predictions_Put[:, i-1]
        for i in range(1, 6)
    }

    avg_prediction_diff = np.mean(np.abs(Data_for_Put_options[['Close_1', 'Close_2', 'Close_3', 'Close_4', 'Close_5']].values - train_predictions_Put), axis=1)
    avg_price_diff = np.mean(avg_prediction_diff)

assert len(Features_for_Put_options['Strike_1']) == len(Data_for_Put_options['Close_1']) == len(train_predictions_Put), \
    "Mismatch in array lengths for strike, close, and prediction data."

assert len(avg_prediction_diff) == len(Features_for_Put_options), "Mismatch in array length between prediction diff and other features."

num_rows = len(Features_for_Put_options)

Res_Put_options = pd.DataFrame({
    'Exp Date = T': exp_dates_for_Put,
    'T - 5': dates_for_Put,
    '21_Day_Percent_Volatility': volas_for_Put_percent,
    '21_Day_Volatility': volas_for_Put_nominal,
    'Strike_1': Features_for_Put_options['Strike_1'].values,
    'Close_1': Data_for_Put_options['Close_1'].values,
    'Predicted Price_1': train_predictions_Put[:, 0],
    'MSE_1': [overall_mse] * num_rows,
    'MAE_1': [overall_mae] * num_rows,
    'MAPE_1': [overall_mape] * num_rows,
    'Strike_2': Features_for_Put_options['Strike_2'].values,
    'Close_2': Data_for_Put_options['Close_2'].values,
    'Predicted Price_2': train_predictions_Put[:, 1],
    'MSE_2': [overall_mse] * num_rows,
    'MAE_2': [overall_mae] * num_rows,
    'MAPE_2': [overall_mape] * num_rows,
    'Strike_3': Features_for_Put_options['Strike_3'].values,
    'Close_3': Data_for_Put_options['Close_3'].values,
    'Predicted Price_3': train_predictions_Put[:, 2],
    'MSE_3': [overall_mse] * num_rows,
    'MAE_3': [overall_mae] * num_rows,
    'MAPE_3': [overall_mape] * num_rows,
    'Strike_4': Features_for_Put_options['Strike_4'].values,
    'Close_4': Data_for_Put_options['Close_4'].values,
    'Predicted Price_4': train_predictions_Put[:, 3],
    'MSE_4': [overall_mse] * num_rows,
    'MAE_4': [overall_mae] * num_rows,
    'MAPE_4': [overall_mape] * num_rows,
    'Strike_5': Features_for_Put_options['Strike_5'].values,
    'Close_5': Data_for_Put_options['Close_5'].values,
    'Predicted Price_5': train_predictions_Put[:, 4],
    'MSE_5': [overall_mse] * num_rows,
    'MAE_5': [overall_mae] * num_rows,
    'MAPE_5': [overall_mape] * num_rows,
    'Seed': [seed] * num_rows,
    'Best Epoch': [best_epoch_Put] * num_rows,
    'Learning Rate': [Best_Learning_rate_Put] * num_rows,
    'Num Neurons': [neurons] * num_rows,
    'Epochs': [best_epoch_Put] * num_rows,
    'Overall MSE': [overall_mse] * num_rows,
    'Overall MAE': [overall_mae] * num_rows,
    'Overall MAPE': [overall_mape] * num_rows,
    **{k: v[:num_rows] for k, v in prediction_differences.items()},  # Truncate if necessary
    'Average Price Prediction Diff': [avg_price_diff] * num_rows  # Match length of DataFrame
})


for i in range(1, 6):
    Res_Put_options[f'Price Prediction Difference_{i}'] = Res_Put_options[f'Predicted Price_{i}'] - Res_Put_options[f'Close_{i}']

    Res_Put_options[f'Price Prediction Difference in percentage_{i}'] = (
        Res_Put_options[f'Price Prediction Difference_{i}'] / Res_Put_options[f'Close_{i}'] * 100
    )

Res_Put_options['Average Price Prediction Difference'] = Res_Put_options[
    [f'Price Prediction Difference_{i}' for i in range(1, 6)]
].mean(axis=1)

Res_Put_options['Average Price Prediction Difference in percentage'] = Res_Put_options[
    [f'Price Prediction Difference in percentage_{i}' for i in range(1, 6)]
].mean(axis=1)

Res_Put_options['Overall Average Price Prediction Difference'] = Res_Put_options[
    [f'Price Prediction Difference_{i}' for i in range(1, 6)]
].mean(axis=1)

Res_Put_options['Overall Average Price Prediction Difference in percentage'] = Res_Put_options[
    [f'Price Prediction Difference in percentage_{i}' for i in range(1, 6)]
].mean(axis=1)


MSE_Put = ((Res_Put_options[[f'Close_{i}' for i in range(1, 6)]].values -
              Res_Put_options[[f'Predicted Price_{i}' for i in range(1, 6)]].values) ** 2).mean().mean()
MAE_Put = (abs(Res_Put_options[[f'Close_{i}' for i in range(1, 6)]].values -
             Res_Put_options[[f'Predicted Price_{i}' for i in range(1, 6)]].values)).mean().mean()
MAPE_Put = (100 * abs((Res_Put_options[[f'Close_{i}' for i in range(1, 6)]].values -
               Res_Put_options[[f'Predicted Price_{i}' for i in range(1, 6)]].values) /
               Res_Put_options[[f'Close_{i}' for i in range(1, 6)]].values)).mean().mean()

Res_Put_options['MSE'] = [MSE_Put] * len(Res_Put_options)  # Overall MSE based on close prices
Res_Put_options['MAE'] = [MAE_Put] * len(Res_Put_options)  # Overall MAE based on close prices
Res_Put_options['MAPE'] = [MAPE_Put] * len(Res_Put_options)  # Overall MAPE based on close prices


print(Res_Put_options.head())
print(f'MSE: {MSE_Put}, MAE: {MAE_Put}, MAPE: {MAPE_Put}')

MSE_Put, MAE_Put, MAPE_Put = calculate_overall_metrics(Close_prices_Put.values, train_predictions_Put)

Res_Put_options['Learning rate'] = lr
Res_Put_options['Epoch size'] = best_epoch_Put
Res_Put_options['Random seed'] = seed






print(Res_Put_options.head())



Res_Put_options.to_csv('./training_results/Res_Put_options_random_search_without_volatility_input_150-3500.csv', index=False)

print("Results saved to './training_results/Res_Put_options.csv'.")



import pandas as pd
import numpy as np
import torch
import matplotlib.pyplot as plt

testing_Data_for_Put_options = pd.read_excel('test_gld_after_2016.xlsx', sheet_name='GLD_PUT')
test_volas_for_Put_percent = testing_Data_for_Put_options['21_Day_Percent_Volatility']
test_volas_for_Put_nominal = testing_Data_for_Put_options['21_Day_Volatility']

testing_Data_for_Put_options.columns = testing_Data_for_Put_options.columns.str.strip()

testing_Features_for_Put_options = testing_Data_for_Put_options[['ETF Price on T - 5', 'Strike_1', 'Strike_2', 'Strike_3', 'Strike_4', 'Strike_5','21_Day_Percent_Volatility','21_Day_Volatility']].copy()
testing_Data_Target_Put = testing_Data_for_Put_options[['Close_1', 'Close_2', 'Close_3', 'Close_4', 'Close_5']]

testing_Features_for_Put_options['ETF Price on T - 5'] = pd.to_numeric(testing_Features_for_Put_options['ETF Price on T - 5'], errors='coerce')

testing_Features_for_Put_options = testing_Features_for_Put_options.dropna(subset=['ETF Price on T - 5'])

test_Close_prices_Put = testing_Data_Target_Put.loc[testing_Features_for_Put_options.index]

test_dates_for_Put = testing_Data_for_Put_options['T - 5']
exp_dates_for_Put_test = testing_Data_for_Put_options['Exp Date = T']

testing_Data_for_Put_options = testing_Data_for_Put_options.drop(columns=['Exp Date = T'])

device = torch.device("cuda" if torch.cuda.is_available() else "cpu")
print(f"Using device: {device}")

Put_features_tensor_test = torch.tensor(testing_Features_for_Put_options.values, dtype=torch.float32).to(device)
Put_target_tensor_test = torch.tensor(testing_Data_Target_Put.values, dtype=torch.float32).to(device)

input_features = 8 
output_strikes = 5 

device = torch.device("cuda" if torch.cuda.is_available() else "cpu")
print(f"Using device: {device}")



if best_model_state:
    _, best_neurons = best_config

    best_model = MultiOutputOptionsPricingANN(Features_for_Put_tensor.shape[1], 5, best_neurons).to(device)
    best_model.load_state_dict(best_model_state) 

    torch.save(best_model_state, './training_results/best_random_search_model.pth')
    print(f"Best model saved with config {best_config}, Best Validation Loss={best_val_loss:.6f}")

    best_model.eval()
    with torch.no_grad():
        train_predictions_Put = best_model(Features_for_Put_tensor).cpu().numpy()

    print(f"Final training predictions: {train_predictions_Put[:5]}")



with torch.no_grad():  
    test_predictions_Put = best_model(Put_features_tensor_test)

test_predictions_Put = test_predictions_Put.cpu().numpy()

assert Put_target_tensor_test.shape == test_predictions_Put.shape, "Shape mismatch between actual and predicted prices."

def Metrics(actual, predicted):
    MSE_test_Put = np.mean((actual - predicted) ** 2, axis=0)  
    MAE_test_Put = np.mean(np.abs(actual - predicted), axis=0) 
    MAPE_test_Put = np.mean(np.abs((actual - predicted) / (actual + 1e-8)), axis=0) * 100  

    return MSE_test_Put, MAE_test_Put, MAPE_test_Put

MSE_test_Put, MAE_test_Put, MAPE_test_Put = Metrics(test_Close_prices_Put.values, test_predictions_Put)

for i in range(len(MSE_test_Put)):
    print(f'Put Options Price_{i+1} - Strike_{i+1}: MSE (testing): {MSE_test_Put[i]:.4f}, MAE (testing): {MAE_test_Put[i]:.4f}, MAPE (testing): {MAPE_test_Put[i]:.2f}%')

Test_Put_options = pd.DataFrame({
    'Exp Date = T': exp_dates_for_Put_test,
    'T - 5': test_dates_for_Put,
    '21_Day_Percent_Volatility': test_volas_for_Put_percent,
    '21_Day_Volatility': test_volas_for_Put_nominal,
    'ETF Price on T - 5': testing_Features_for_Put_options['ETF Price on T - 5'].values,
})

for i in range(1, 6):  
    Test_Put_options[f'Strike_{i}'] = testing_Features_for_Put_options[f'Strike_{i}'].values
    Test_Put_options[f'Close_{i}'] = testing_Data_Target_Put[f'Close_{i}'].values  # Actual close prices
    Test_Put_options[f'Predicted Price_{i}'] = test_predictions_Put[:, i - 1]  # Predicted prices

for i in range(1, 6):
    Test_Put_options[f'Price Prediction Difference_{i}'] = Test_Put_options[f'Predicted Price_{i}'] - Test_Put_options[f'Close_{i}']

    Test_Put_options[f'Price Prediction Difference in percentage_{i}'] = (
        Test_Put_options[f'Price Prediction Difference_{i}'] / Test_Put_options[f'Close_{i}'].replace(0, np.nan) * 100
    )

Test_Put_options['Average Price Prediction Difference'] = Test_Put_options[
    [f'Price Prediction Difference_{i}' for i in range(1, 6)]
].mean(axis=1)

Test_Put_options['Average Price Prediction Difference in percentage'] = Test_Put_options[
    [f'Price Prediction Difference in percentage_{i}' for i in range(1, 6)]
].mean(axis=1)

Test_Put_options['Overall Average Price Prediction Difference'] = Test_Put_options[
    [f'Price Prediction Difference_{i}' for i in range(1, 6)]
].mean(axis=1)

Test_Put_options['Overall Average Price Prediction Difference in percentage'] = Test_Put_options[
    [f'Price Prediction Difference in percentage_{i}' for i in range(1, 6)]
].mean(axis=1)

metrics_df = pd.DataFrame({
    'Strike': [f'Strike_{i+1} Close_{i+1}' for i in range(len(MSE_test_Put))],
    'MSE_test_Put_close': MSE_test_Put,
    'MAE_test_Put_close': MAE_test_Put,
    'MAPE_test_Put_Close': MAPE_test_Put,
})

Test_Put_options['MSE'] = np.mean(MSE_test_Put)  
Test_Put_options['MAE'] = np.mean(MAE_test_Put) 
Test_Put_options ['MAPE'] = np.mean(MAPE_test_Put)
Test_Put_options['Learning rate'] = lr 
Test_Put_options['Epoch size'] = best_epoch_Put 


print(Test_Put_options.head())
print(f'MSE: {np.mean(MSE_test_Put):.4f}, MAE: {np.mean(MAE_test_Put):.4f}, MAPE: {np.mean(MAPE_test_Put):.2f}%')

Test_Put_options = pd.concat([Test_Put_options, metrics_df], axis=1)

with pd.ExcelWriter('./testing_results/GLD_testing_results_with_ANN_Adam_random_search_Testing_without_volatility_input_Puts_.xlsx') as writer:
    Test_Put_options.to_excel(writer, sheet_name='Put_Options', index=False)

print(Test_Put_options.head())






strikes = [1, 2, 3, 4, 5]  

for strike in strikes:
    plt.figure(figsize=(12, 6))

    plt.plot(range(len(Res_Put_options)), Res_Put_options[f'Close_{strike}'],
             label=f'Actual Close Price Close_{strike} (Strike_{strike})', color='blue', marker='o', linestyle='-')

    plt.plot(range(len(Res_Put_options)), Res_Put_options[f'Predicted Price_{strike}'],
             label=f'Predicted Close Price Close_{strike} (Strike_{strike})', color='red', marker='x', linestyle='--')

    plt.xlabel('Day')
    plt.ylabel('Close Price in USD$')
    plt.title(f'Actual vs Predicted Close Prices using ANN+Random-Search for Close_{strike} (without volatility Input) ANN 8 layers Training dataset', fontsize=10)
    plt.legend()
    plt.grid(True)
    plt.tight_layout()

    plt.savefig(f'./training_results/Actual_vs_Predicted_ANN_randomSearch_Strike_{strike}_Close_{strike}_Volatility_Input.png')
    plt.show()


for strike in strikes:
    plt.figure(figsize=(14, 6))
    plt.scatter(Res_Put_options.index, Res_Put_options[f'Price Prediction Difference_{strike}'], color='purple', alpha=0.5)
    plt.axhline(0, color='red', linestyle='--', linewidth=1)
    plt.xlabel('Day')
    plt.ylabel(f'Price Prediction Difference (Strike_{strike}) in USD$')
    plt.title(f'Residuals for Close Price_{strike} Close Prices (ANN+Random-Search) (without volatility Input) ANN 8 layers Training dataset', fontsize=12)
    plt.grid(True)
    plt.tight_layout()

    plt.savefig(f'./training_results/Residuals_Put_Options_ANN_randomSearch_Strike_{strike}_Volatility_Input.png')
    plt.show()

plt.figure(figsize=(10, 6))
for strike in strikes:
    plt.scatter(Res_Put_options[f'Close_{strike}'], Res_Put_options[f'Predicted Price_{strike}'],
                label=f'Strike_{strike} Close_{strike}', alpha=0.5)

min_price = Res_Put_options[[f'Close_{s}' for s in strikes]].min().min()
max_price = Res_Put_options[[f'Close_{s}' for s in strikes]].max().max()
plt.plot([min_price, max_price], [min_price, max_price], color='red', linewidth=2, linestyle='--', label='Perfect Prediction Line')

plt.xlabel('Actual Close Price in USD$')
plt.ylabel('Predicted Close Price in USD$')
plt.title('Actual vs Predicted Close Prices using ANN+Random-Search (without volatility Input) ANN 8 layers Training dataset', fontsize=10)
plt.legend()
plt.grid(True)

plt.savefig('./training_results/Actual_vs_Predicted_ANN_randomSearch_Scatter_Volatility_Input.png')
plt.show()

plt.figure(figsize=(12, 6))

for strike in strikes:
    plt.figure(figsize=(10, 6))  # Create a new figure for each strike
    plt.plot(dates_for_Put, Res_Put_options[f'Close_{strike}'],
             label=f'Actual Close Price Strike_{strike}', marker='o', color='blue')
    plt.plot(dates_for_Put, Res_Put_options[f'Predicted Price_{strike}'],
             label=f'Predicted Close Price Strike_{strike}', linestyle='--', marker='x', color='red')

    plt.xlabel('T - 5 Time years')
    plt.ylabel('Close Price in USD$')
    plt.title(f'Actual vs. Predicted Close prices using ANN+Random_Search for Close_{strike} Over Time (without volatility Input) ANN 8 layers Training dataset', fontsize=10)
    plt.xticks(rotation=45)  # Rotate date labels for better readability
    plt.legend()
    plt.grid(True)
    plt.tight_layout()

    plt.savefig(f'./training_results/Actual_vs_Predicted_ANN_randomSearch_Strike_{strike}_Over_Time_Volatility_Input.png')
    plt.show()

plt.figure(figsize=(14, 10))

plt.subplot(2, 1, 1)
plt.plot(Res_Put_options['T - 5'], Res_Put_options['Overall Average Price Prediction Difference'],
         marker='o', linestyle='-', color='blue')
plt.xlabel('T - 5 Time years')
plt.ylabel('Average Price Prediction Difference in USD$')
plt.title('Overall Average Price Prediction Difference using ANN+Random-Search for Put Options (without volatility Input) ANN 8 layers Training dataset', fontsize=10)
plt.grid(True)

plt.subplot(2, 1, 2)
plt.plot(Res_Put_options['T - 5'], Res_Put_options['Overall Average Price Prediction Difference in percentage'],
         marker='o', linestyle='-', color='orange')
plt.xlabel('T - 5 Time years')
plt.ylabel('Average Price Prediction Difference in Percentage (%)')
plt.title('Average Price Prediction Difference in Percentage using ANN+Random-Search for Put Options (without volatility Input) ANN 8 layers Training dataset', fontsize=10)
plt.grid(True)

plt.tight_layout()

plt.savefig('./training_results/Overall_Price_Prediction_Differences_ANN_randomSearch_Volatility_Input.png')

plt.show()

for strike in strikes:
    plt.figure(figsize=(12, 6))
    plt.hist(Res_Put_options[f'Price Prediction Difference_{strike}'], bins=30, color='green', alpha=0.7)
    plt.xlabel(f'Close_{strike} Price Prediction Difference in USD$ (Close Price_{strike}) ')
    plt.ylabel('Frequency')
    plt.title(f'Histogram of Close Price Prediction Differences for Close Price_{strike} using ANN + random Search without volatility Input', fontsize=10)
    plt.grid(True)
    plt.tight_layout()

    plt.savefig(f'./training_results/Prediction_Differences_Histogram_Strike_{strike}_ANN_randomSearch_Volatility_Input.png')
    plt.show()



plt.savefig('./training_results/Prediction_Differences_Histogram_Overall_ANN_randomSearch_Volatility_Input.png')
plt.show()


Res_Put_options['Overall Price Prediction Difference'] = Res_Put_options[
    [f'Price Prediction Difference_{i}' for i in range(1, 6)]
].mean(axis=1)

plt.figure(figsize=(12, 6))
plt.hist(Res_Put_options['Overall Price Prediction Difference'], bins=30, color='blue', alpha=0.7)
plt.xlabel('Overall Price Prediction Difference in USD$')
plt.ylabel('Frequency')
plt.title('Histogram of Overall Prediction Differences for GLD ETF Put Options\nANN+Random Search (without volatility Input) ANN 8 layers Training dataset', fontsize=10)
plt.grid(True)
plt.tight_layout()

plt.savefig('./training_results/Prediction_Differences_Histogram_Put_Options_Overall_ANN_with_random_Search.png')
plt.show()

Res_Put_options['Overall Price Prediction Difference in percentage'] = Res_Put_options[
    [f'Price Prediction Difference_{i}' for i in range(1, 6)]
].mean(axis=1)

plt.figure(figsize=(12, 6))
plt.hist(Res_Put_options['Overall Price Prediction Difference in percentage'], bins=30, color='blue', alpha=0.7)
plt.xlabel('Overall Price Prediction Difference %')
plt.ylabel('Frequency')
plt.title('Histogram of Overall Prediction Differences in Percentage for GLD ETF Put Options\nANN+Random Search (without volatility Input) ANN 8 layers Training dataset', fontsize=10)
plt.grid(True)
plt.tight_layout()



plt.savefig('./training_results/Prediction_Differences_in_Percentage_Histogram_Overall_ANN_randomSearch_Volatility_Input.png')
plt.show()






import pandas as pd
import numpy as np
import torch
import matplotlib.pyplot as plt

testing_Data_for_Put_options = pd.read_excel('test_gld_after_2016.xlsx', sheet_name='GLD_PUT')
test_volas_for_Put_percent = testing_Data_for_Put_options['21_Day_Percent_Volatility']
test_volas_for_Put_nominal = testing_Data_for_Put_options['21_Day_Volatility']

testing_Data_for_Put_options.columns = testing_Data_for_Put_options.columns.str.strip()

testing_Features_for_Put_options = testing_Data_for_Put_options[['ETF Price on T - 5', 'Strike_1', 'Strike_2', 'Strike_3', 'Strike_4', 'Strike_5']].copy()
testing_Data_Target_Put = testing_Data_for_Put_options[['Close_1', 'Close_2', 'Close_3', 'Close_4', 'Close_5']]

testing_Features_for_Put_options['ETF Price on T - 5'] = pd.to_numeric(testing_Features_for_Put_options['ETF Price on T - 5'], errors='coerce')

testing_Features_for_Put_options = testing_Features_for_Put_options.dropna(subset=['ETF Price on T - 5'])

test_Close_prices_Put = testing_Data_Target_Put.loc[testing_Features_for_Put_options.index]

test_dates_for_Put = testing_Data_for_Put_options['T - 5']
exp_dates_for_Put_test = testing_Data_for_Put_options['Exp Date = T']

testing_Data_for_Put_options = testing_Data_for_Put_options.drop(columns=['Exp Date = T'])

device = torch.device("cuda" if torch.cuda.is_available() else "cpu")
print(f"Using device: {device}")

Put_features_tensor_test = torch.tensor(testing_Features_for_Put_options.values, dtype=torch.float32).to(device)
Put_target_tensor_test = torch.tensor(testing_Data_Target_Put.values, dtype=torch.float32).to(device)

input_features = 8  
output_strikes = 5  

device = torch.device("cuda" if torch.cuda.is_available() else "cpu")
print(f"Using device: {device}")



if best_model_state:
    _, best_neurons = best_config

    best_model = MultiOutputOptionsPricingANN(Features_for_Put_tensor.shape[1], 5, best_neurons).to(device)
    best_model.load_state_dict(best_model_state)  # Load the saved state dict

    torch.save(best_model_state, './training_results/best_random_search_model.pth')
    print(f"Best model saved with config {best_config}, Best Validation Loss={best_val_loss:.6f}")

    best_model.eval()
    with torch.no_grad():
        train_predictions_Put = best_model(Features_for_Put_tensor).cpu().numpy()

    print(f"Final training predictions: {train_predictions_Put[:5]}")



with torch.no_grad(): 
    test_predictions_Put = best_model(Put_features_tensor_test)

test_predictions_Put = test_predictions_Put.cpu().numpy()

assert Put_target_tensor_test.shape == test_predictions_Put.shape, "Shape mismatch between actual and predicted prices."

def Metrics(actual, predicted):
    MSE_test_Put = np.mean((actual - predicted) ** 2, axis=0) 
    MAE_test_Put = np.mean(np.abs(actual - predicted), axis=0)  
    MAPE_test_Put = np.mean(np.abs((actual - predicted) / (actual + 1e-8)), axis=0) * 100 

    return MSE_test_Put, MAE_test_Put, MAPE_test_Put

MSE_test_Put, MAE_test_Put, MAPE_test_Put = Metrics(test_Close_prices_Put.values, test_predictions_Put)

for i in range(len(MSE_test_Put)):
    print(f'Put Options Price_{i+1} - Strike_{i+1}: MSE (testing): {MSE_test_Put[i]:.4f}, MAE (testing): {MAE_test_Put[i]:.4f}, MAPE (testing): {MAPE_test_Put[i]:.2f}%')

Test_Put_options = pd.DataFrame({
    'Exp Date = T': exp_dates_for_Put_test,
    'T - 5': test_dates_for_Put,
    '21_Day_Percent_Volatility': test_volas_for_Put_percent,
    '21_Day_Volatility': test_volas_for_Put_nominal,
    'ETF Price on T - 5': testing_Features_for_Put_options['ETF Price on T - 5'].values,
})

for i in range(1, 6):  
    Test_Put_options[f'Strike_{i}'] = testing_Features_for_Put_options[f'Strike_{i}'].values
    Test_Put_options[f'Close_{i}'] = testing_Data_Target_Put[f'Close_{i}'].values  
    Test_Put_options[f'Predicted Price_{i}'] = test_predictions_Put[:, i - 1]  

for i in range(1, 6):
    Test_Put_options[f'Price Prediction Difference_{i}'] = Test_Put_options[f'Predicted Price_{i}'] - Test_Put_options[f'Close_{i}']

    Test_Put_options[f'Price Prediction Difference in percentage_{i}'] = (
        Test_Put_options[f'Price Prediction Difference_{i}'] / Test_Put_options[f'Close_{i}'].replace(0, np.nan) * 100
    )

Test_Put_options['Average Price Prediction Difference'] = Test_Put_options[
    [f'Price Prediction Difference_{i}' for i in range(1, 6)]
].mean(axis=1)

Test_Put_options['Average Price Prediction Difference in percentage'] = Test_Put_options[
    [f'Price Prediction Difference in percentage_{i}' for i in range(1, 6)]
].mean(axis=1)

Test_Put_options['Overall Average Price Prediction Difference'] = Test_Put_options[
    [f'Price Prediction Difference_{i}' for i in range(1, 6)]
].mean(axis=1)

Test_Put_options['Overall Average Price Prediction Difference in percentage'] = Test_Put_options[
    [f'Price Prediction Difference in percentage_{i}' for i in range(1, 6)]
].mean(axis=1)

metrics_df = pd.DataFrame({
    'Strike': [f'Strike_{i+1} Close_{i+1}' for i in range(len(MSE_test_Put))],
    'MSE_test_Put_close': MSE_test_Put,
    'MAE_test_Put_close': MAE_test_Put,
    'MAPE_test_Put_Close': MAPE_test_Put,
})

Test_Put_options['MSE'] = np.mean(MSE_test_Put)  
Test_Put_options['MAE'] = np.mean(MAE_test_Put)  
Test_Put_options ['MAPE'] = np.mean(MAPE_test_Put)
Test_Put_options['Learning rate'] = lr 
Test_Put_options['Epoch size'] = best_epoch_Put  


print(Test_Put_options.head())
print(f'MSE: {np.mean(MSE_test_Put):.4f}, MAE: {np.mean(MAE_test_Put):.4f}, MAPE: {np.mean(MAPE_test_Put):.2f}%')

Test_Put_options = pd.concat([Test_Put_options, metrics_df], axis=1)

with pd.ExcelWriter('./testing_results/GLD_testing_results_with_ANN_Adam_random_search_Testing_without_volatility_input_Puts_.xlsx') as writer:
    Test_Put_options.to_excel(writer, sheet_name='Put_Options', index=False)

print(Test_Put_options.head())








strikes_test = [1, 2, 3, 4, 5] 

for strike in strikes_test:
    plt.figure(figsize=(12, 6))

    plt.plot(range(len(Test_Put_options)), Test_Put_options[f'Close_{strike}'],
             label=f'Actual Close Price_{strike}(Strike_{strike})', color='blue', marker='o', linestyle='-')

    plt.plot(range(len(Test_Put_options)), Test_Put_options[f'Predicted Price_{strike}'],
             label=f'Predicted Close Price_{strike} (Strike_{strike})', color='red', marker='x', linestyle='--')

    plt.xlabel('Day')
    plt.ylabel('Close Price in USD$')
    plt.title(f'Actual vs Predicted Close Prices for GLD ETF Put Options Close_{strike} ANN+Random_Search (without volatility Input) ANN 8 layers Testing dataset', fontsize=10)
    plt.legend()
    plt.grid(True)
    plt.tight_layout()

    plt.savefig(f'./testing_results/Actual_vs_Predicted_Close_Prices_Close_{strike}_ANN_with_random_Search_8_layers_150_neurons.png')
    plt.show()

for strike in strikes_test:
    plt.figure(figsize=(12, 6))
    plt.hist(Test_Put_options[f'Price Prediction Difference_{strike}'], bins=30, color='green', alpha=0.7)
    plt.xlabel(f'Price Prediction Difference in USD$ (Strike_{strike}) Close price_{strike}')
    plt.ylabel('Frequency')
    plt.title(f'Histogram of Prediction Differences for GLD ETF Put Options Close_{strike} (without volatility Input) ANN+Random-search 8 layers Testing dataset', fontsize=10)
    plt.grid(True)
    plt.tight_layout()

    plt.savefig(f'./testing_results/Prediction_Differences_Histogram_Put_Options_ANN_with_random_Search_{strike}.png')
    plt.show()

for strike in strikes_test:
    plt.figure(figsize=(14, 6))
    plt.scatter(Test_Put_options.index, Test_Put_options[f'Price Prediction Difference_{strike}'], color='purple', alpha=0.5)
    plt.axhline(0, color='red', linestyle='--', linewidth=1)
    plt.xlabel('Day')
    plt.ylabel(f'Price Prediction Difference in USD$ Close Price_{strike} in USD$')
    plt.title(f'Residuals for GLD ETF Put Option Close Prices ANN with random Search Close_{strike} (without volatility Input) ANN 8 layers Testing dataset', fontsize=10)
    plt.grid(True)
    plt.tight_layout()

    plt.savefig(f'./testing_results/Residuals_Put_Options_Strike{strike}_Testing_ANN_with_random_Search_{strike}.png')
    plt.show()

plt.figure(figsize=(10, 6))
for strike in strikes_test:
    plt.scatter(Test_Put_options[f'Close_{strike}'], Test_Put_options[f'Predicted Price_{strike}'],
                label=f'Strike_{strike} Close_{strike}', alpha=0.5)

min_price = Test_Put_options[[f'Close_{s}' for s in strikes_test]].min().min()
max_price = Test_Put_options[[f'Close_{s}' for s in strikes_test]].max().max()
plt.plot([min_price, max_price], [min_price, max_price], color='red', linewidth=2, linestyle='--', label='Perfect Prediction Line')

plt.xlabel('Actual Close Price in USD$')
plt.ylabel('Predicted Close Price in USD$')
plt.title('Actual vs Predicted Close Prices for GLD ETF Put Options\nANN+Random Search (without volatility Input) ANN 8 layers Testing dataset', fontsize=10)
plt.legend()
plt.grid(True)

plt.savefig('./testing_results/Actual_vs_Predicted_Close_Prices_Scatter_ANN_with_random_Search.png')
plt.show()

for strike in strikes_test:
    plt.figure(figsize=(10, 6))
    plt.plot(test_dates_for_Put, Test_Put_options[f'Close_{strike}'],
             label=f'Actual Close Price Strike_{strike}', marker='o', color='blue')
    plt.plot(test_dates_for_Put, Test_Put_options[f'Predicted Price_{strike}'],
             label=f'Predicted Close Price Strike_{strike}', linestyle='--', marker='x', color='red')

    plt.xlabel('T - 5 Time years')
    plt.ylabel('Close Price in USD$')
    plt.title(f'Actual vs. Predicted Close Prices Over Time for GLD ETF Put Options\nANN+Random-Search Close_{strike} (without volatility Input) ANN 8 layers Testing dataset', fontsize=10)
    plt.xticks(rotation=45)  
    plt.grid(True)
    plt.tight_layout()

    plt.savefig(f'./testing_results/Actual_vs_Predicted_Close_Prices_Over_Time_Strike_{strike}_ANN_with_random_Search.png')
    plt.show()

plt.figure(figsize=(14, 10))

plt.subplot(2, 1, 1)
plt.plot(Test_Put_options['T - 5'], Test_Put_options['Overall Average Price Prediction Difference'],
         marker='o', linestyle='-', color='blue')
plt.xlabel('T - 5 Time years')
plt.ylabel('Average Price Prediction Difference in USD$')
plt.title('Overall Average Price Prediction Difference for Put Options\nANN+Random_Search (without volatility Input) ANN 8 layers Testing dataset', fontsize=14)
plt.grid(True)

plt.subplot(2, 1, 2)
plt.plot(Test_Put_options['T - 5'], Test_Put_options['Overall Average Price Prediction Difference in percentage'],
         marker='o', linestyle='-', color='orange')
plt.xlabel('T - 5 Time in years')
plt.ylabel('Average Price Prediction Difference in Percentage (%)')
plt.title('Overall Average Price Prediction Difference in Percentage for GLD ETF Put Options\nANN+Random_Search (without volatility Input) ANN 8 layers Testing dataset', fontsize=14)
plt.grid(True)

plt.tight_layout()

plt.savefig('./testing_results/Average_Price_Prediction_Differences_ANN_with_random_Search.png')

plt.show()

Test_Put_options['Overall Price Prediction Difference'] = Test_Put_options[
    [f'Price Prediction Difference_{i}' for i in range(1, 6)]
].mean(axis=1)

plt.figure(figsize=(12, 6))
plt.hist(Test_Put_options['Overall Price Prediction Difference'], bins=30, color='blue', alpha=0.7)
plt.xlabel('Overall Price Prediction Difference in USD$')
plt.ylabel('Frequency')
plt.title('Histogram of Overall Prediction Differences for GLD ETF Put Options\nANN+Random Search (without volatility Input) ANN 8 layers Testing dataset', fontsize=10)
plt.grid(True)
plt.tight_layout()

plt.savefig('./testing_results/Prediction_Differences_Histogram_Put_Options_Overall_ANN_with_random_Search.png')
plt.show()

Test_Put_options['Overall Price Prediction Difference in percentage'] = Res_Put_options[
    [f'Price Prediction Difference_{i}' for i in range(1, 6)]
].mean(axis=1)

plt.figure(figsize=(12, 6))
plt.hist(Res_Put_options['Overall Price Prediction Difference in percentage'], bins=30, color='blue', alpha=0.7)
plt.xlabel('Overall Price Prediction Difference %')
plt.ylabel('Frequency')
plt.title('Histogram of Overall Prediction Differences in Percentage for GLD ETF Put Options\nANN+Random Search (without volatility Input) ANN 8 layers Testing dataset', fontsize=10)
plt.grid(True)
plt.tight_layout()

plt.savefig('./training_results/Prediction_Differences_Histogram_Put_in_percentage_Options_Overall_ANN_with_random_Search.png')
plt.show()

